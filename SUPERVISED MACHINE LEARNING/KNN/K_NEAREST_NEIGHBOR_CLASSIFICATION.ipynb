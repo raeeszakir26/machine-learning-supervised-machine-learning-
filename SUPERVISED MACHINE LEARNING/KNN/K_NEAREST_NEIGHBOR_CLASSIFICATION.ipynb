{
  "nbformat": 4,
  "nbformat_minor": 0,
  "metadata": {
    "colab": {
      "provenance": []
    },
    "kernelspec": {
      "name": "python3",
      "display_name": "Python 3"
    },
    "language_info": {
      "name": "python"
    }
  },
  "cells": [
    {
      "cell_type": "code",
      "execution_count": 2,
      "metadata": {
        "colab": {
          "base_uri": "https://localhost:8080/"
        },
        "id": "7uCVXpYKFGaR",
        "outputId": "425ef36f-bb31-4f6c-eb09-250ee46ee519"
      },
      "outputs": [
        {
          "output_type": "stream",
          "name": "stdout",
          "text": [
            "Collecting sklearn\n",
            "  Using cached sklearn-0.0.post12.tar.gz (2.6 kB)\n",
            "  \u001b[1;31merror\u001b[0m: \u001b[1msubprocess-exited-with-error\u001b[0m\n",
            "  \n",
            "  \u001b[31m×\u001b[0m \u001b[32mpython setup.py egg_info\u001b[0m did not run successfully.\n",
            "  \u001b[31m│\u001b[0m exit code: \u001b[1;36m1\u001b[0m\n",
            "  \u001b[31m╰─>\u001b[0m See above for output.\n",
            "  \n",
            "  \u001b[1;35mnote\u001b[0m: This error originates from a subprocess, and is likely not a problem with pip.\n",
            "  Preparing metadata (setup.py) ... \u001b[?25l\u001b[?25herror\n",
            "\u001b[1;31merror\u001b[0m: \u001b[1mmetadata-generation-failed\u001b[0m\n",
            "\n",
            "\u001b[31m×\u001b[0m Encountered error while generating package metadata.\n",
            "\u001b[31m╰─>\u001b[0m See above for output.\n",
            "\n",
            "\u001b[1;35mnote\u001b[0m: This is an issue with the package mentioned above, not pip.\n",
            "\u001b[1;36mhint\u001b[0m: See above for details.\n"
          ]
        }
      ],
      "source": [
        "# KNN: supervised ML algorithm perform both classification and regression tasks\n",
        "# dataset malignant tumour\n",
        "# 1 get data\n",
        "# 2 define k neghbor\n",
        "# calculate the neighbor distance\n",
        "#euclidian method=(dx2-x1)sq+(y2-y1)sq whole sq\n",
        "# machattan diastance=d=|x2-x1|+|y2-y1|\n",
        "\n",
        "! pip install sklearn"
      ]
    },
    {
      "cell_type": "code",
      "source": [
        "import numpy as np\n",
        "import pandas as pd\n"
      ],
      "metadata": {
        "id": "NXGRstWdJXPt"
      },
      "execution_count": 2,
      "outputs": []
    },
    {
      "cell_type": "code",
      "source": [
        "import sklearn\n",
        "data=pd.read_csv('/content/drive/MyDrive/data1.csv')\n",
        "data1=pd.DataFrame(data)\n",
        "print(data1)\n",
        "print(data.to_string)\n",
        "print(np.unique(y_train))\n",
        "\n",
        "print(data.head(10))"
      ],
      "metadata": {
        "colab": {
          "base_uri": "https://localhost:8080/"
        },
        "id": "GkcGE_czJhLk",
        "outputId": "f09dc51f-2a49-4f33-ee87-196a0d2fe9d7"
      },
      "execution_count": 35,
      "outputs": [
        {
          "output_type": "stream",
          "name": "stdout",
          "text": [
            "           id  radius_mean  texture_mean  perimeter_mean  area_mean  \\\n",
            "0      842302        17.99         10.38          122.80     1001.0   \n",
            "1      842517        20.57         17.77          132.90     1326.0   \n",
            "2    84300903        19.69         21.25          130.00     1203.0   \n",
            "3    84348301        11.42         20.38           77.58      386.1   \n",
            "4    84358402        20.29         14.34          135.10     1297.0   \n",
            "..        ...          ...           ...             ...        ...   \n",
            "564    926424        21.56         22.39          142.00     1479.0   \n",
            "565    926682        20.13         28.25          131.20     1261.0   \n",
            "566    926954        16.60         28.08          108.30      858.1   \n",
            "567    927241        20.60         29.33          140.10     1265.0   \n",
            "568     92751         7.76         24.54           47.92      181.0   \n",
            "\n",
            "     smoothness_mean  compactness_mean  concavity_mean  concave_points_mean  \\\n",
            "0            0.11840           0.27760         0.30010              0.14710   \n",
            "1            0.08474           0.07864         0.08690              0.07017   \n",
            "2            0.10960           0.15990         0.19740              0.12790   \n",
            "3            0.14250           0.28390         0.24140              0.10520   \n",
            "4            0.10030           0.13280         0.19800              0.10430   \n",
            "..               ...               ...             ...                  ...   \n",
            "564          0.11100           0.11590         0.24390              0.13890   \n",
            "565          0.09780           0.10340         0.14400              0.09791   \n",
            "566          0.08455           0.10230         0.09251              0.05302   \n",
            "567          0.11780           0.27700         0.35140              0.15200   \n",
            "568          0.05263           0.04362         0.00000              0.00000   \n",
            "\n",
            "     symmetry_mean  ...  radius_worst  texture_worst  perimeter_worst  \\\n",
            "0           0.2419  ...        25.380          17.33           184.60   \n",
            "1           0.1812  ...        24.990          23.41           158.80   \n",
            "2           0.2069  ...        23.570          25.53           152.50   \n",
            "3           0.2597  ...        14.910          26.50            98.87   \n",
            "4           0.1809  ...        22.540          16.67           152.20   \n",
            "..             ...  ...           ...            ...              ...   \n",
            "564         0.1726  ...        25.450          26.40           166.10   \n",
            "565         0.1752  ...        23.690          38.25           155.00   \n",
            "566         0.1590  ...        18.980          34.12           126.70   \n",
            "567         0.2397  ...        25.740          39.42           184.60   \n",
            "568         0.1587  ...         9.456          30.37            59.16   \n",
            "\n",
            "     area_worst  smoothness_worst  compactness_worst  concavity_worst  \\\n",
            "0        2019.0           0.16220            0.66560           0.7119   \n",
            "1        1956.0           0.12380            0.18660           0.2416   \n",
            "2        1709.0           0.14440            0.42450           0.4504   \n",
            "3         567.7           0.20980            0.86630           0.6869   \n",
            "4        1575.0           0.13740            0.20500           0.4000   \n",
            "..          ...               ...                ...              ...   \n",
            "564      2027.0           0.14100            0.21130           0.4107   \n",
            "565      1731.0           0.11660            0.19220           0.3215   \n",
            "566      1124.0           0.11390            0.30940           0.3403   \n",
            "567      1821.0           0.16500            0.86810           0.9387   \n",
            "568       268.6           0.08996            0.06444           0.0000   \n",
            "\n",
            "     concave_points_worst  symmetry_worst  fractal_dimension_worst  \n",
            "0                  0.2654          0.4601                  0.11890  \n",
            "1                  0.1860          0.2750                  0.08902  \n",
            "2                  0.2430          0.3613                  0.08758  \n",
            "3                  0.2575          0.6638                  0.17300  \n",
            "4                  0.1625          0.2364                  0.07678  \n",
            "..                    ...             ...                      ...  \n",
            "564                0.2216          0.2060                  0.07115  \n",
            "565                0.1628          0.2572                  0.06637  \n",
            "566                0.1418          0.2218                  0.07820  \n",
            "567                0.2650          0.4087                  0.12400  \n",
            "568                0.0000          0.2871                  0.07039  \n",
            "\n",
            "[569 rows x 31 columns]\n",
            "<bound method DataFrame.to_string of            id  radius_mean  texture_mean  perimeter_mean  area_mean  \\\n",
            "0      842302        17.99         10.38          122.80     1001.0   \n",
            "1      842517        20.57         17.77          132.90     1326.0   \n",
            "2    84300903        19.69         21.25          130.00     1203.0   \n",
            "3    84348301        11.42         20.38           77.58      386.1   \n",
            "4    84358402        20.29         14.34          135.10     1297.0   \n",
            "..        ...          ...           ...             ...        ...   \n",
            "564    926424        21.56         22.39          142.00     1479.0   \n",
            "565    926682        20.13         28.25          131.20     1261.0   \n",
            "566    926954        16.60         28.08          108.30      858.1   \n",
            "567    927241        20.60         29.33          140.10     1265.0   \n",
            "568     92751         7.76         24.54           47.92      181.0   \n",
            "\n",
            "     smoothness_mean  compactness_mean  concavity_mean  concave_points_mean  \\\n",
            "0            0.11840           0.27760         0.30010              0.14710   \n",
            "1            0.08474           0.07864         0.08690              0.07017   \n",
            "2            0.10960           0.15990         0.19740              0.12790   \n",
            "3            0.14250           0.28390         0.24140              0.10520   \n",
            "4            0.10030           0.13280         0.19800              0.10430   \n",
            "..               ...               ...             ...                  ...   \n",
            "564          0.11100           0.11590         0.24390              0.13890   \n",
            "565          0.09780           0.10340         0.14400              0.09791   \n",
            "566          0.08455           0.10230         0.09251              0.05302   \n",
            "567          0.11780           0.27700         0.35140              0.15200   \n",
            "568          0.05263           0.04362         0.00000              0.00000   \n",
            "\n",
            "     symmetry_mean  ...  radius_worst  texture_worst  perimeter_worst  \\\n",
            "0           0.2419  ...        25.380          17.33           184.60   \n",
            "1           0.1812  ...        24.990          23.41           158.80   \n",
            "2           0.2069  ...        23.570          25.53           152.50   \n",
            "3           0.2597  ...        14.910          26.50            98.87   \n",
            "4           0.1809  ...        22.540          16.67           152.20   \n",
            "..             ...  ...           ...            ...              ...   \n",
            "564         0.1726  ...        25.450          26.40           166.10   \n",
            "565         0.1752  ...        23.690          38.25           155.00   \n",
            "566         0.1590  ...        18.980          34.12           126.70   \n",
            "567         0.2397  ...        25.740          39.42           184.60   \n",
            "568         0.1587  ...         9.456          30.37            59.16   \n",
            "\n",
            "     area_worst  smoothness_worst  compactness_worst  concavity_worst  \\\n",
            "0        2019.0           0.16220            0.66560           0.7119   \n",
            "1        1956.0           0.12380            0.18660           0.2416   \n",
            "2        1709.0           0.14440            0.42450           0.4504   \n",
            "3         567.7           0.20980            0.86630           0.6869   \n",
            "4        1575.0           0.13740            0.20500           0.4000   \n",
            "..          ...               ...                ...              ...   \n",
            "564      2027.0           0.14100            0.21130           0.4107   \n",
            "565      1731.0           0.11660            0.19220           0.3215   \n",
            "566      1124.0           0.11390            0.30940           0.3403   \n",
            "567      1821.0           0.16500            0.86810           0.9387   \n",
            "568       268.6           0.08996            0.06444           0.0000   \n",
            "\n",
            "     concave_points_worst  symmetry_worst  fractal_dimension_worst  \n",
            "0                  0.2654          0.4601                  0.11890  \n",
            "1                  0.1860          0.2750                  0.08902  \n",
            "2                  0.2430          0.3613                  0.08758  \n",
            "3                  0.2575          0.6638                  0.17300  \n",
            "4                  0.1625          0.2364                  0.07678  \n",
            "..                    ...             ...                      ...  \n",
            "564                0.2216          0.2060                  0.07115  \n",
            "565                0.1628          0.2572                  0.06637  \n",
            "566                0.1418          0.2218                  0.07820  \n",
            "567                0.2650          0.4087                  0.12400  \n",
            "568                0.0000          0.2871                  0.07039  \n",
            "\n",
            "[569 rows x 31 columns]>\n",
            "[0.05504 0.05521 0.05525 0.05695 0.05737 0.05843 0.05865 0.05871 0.05905\n",
            " 0.05932 0.05933 0.05972 0.06025 0.06033 0.06037 0.06072 0.06091 0.06111\n",
            " 0.0612  0.06169 0.06174 0.06192 0.06206 0.06251 0.06263 0.06287 0.06289\n",
            " 0.06291 0.06306 0.06321 0.06386 0.06387 0.0641  0.06428 0.06431 0.06435\n",
            " 0.06443 0.06464 0.06469 0.06484 0.06487 0.0651  0.06515 0.06522 0.06541\n",
            " 0.06558 0.06576 0.06592 0.06596 0.06599 0.06603 0.06609 0.06623 0.06639\n",
            " 0.06641 0.06643 0.06658 0.06688 0.06735 0.06736 0.06742 0.06743 0.06745\n",
            " 0.06766 0.06769 0.06771 0.06777 0.06783 0.06784 0.06788 0.06794 0.0681\n",
            " 0.06818 0.06825 0.06827 0.06828 0.06829 0.06836 0.06846 0.06888 0.06896\n",
            " 0.06911 0.06917 0.06922 0.06925 0.06938 0.06949 0.06953 0.06956 0.06958\n",
            " 0.0696  0.06994 0.07007 0.07009 0.07014 0.07018 0.07024 0.07028 0.07036\n",
            " 0.07039 0.07048 0.07055 0.07061 0.07062 0.07081 0.07083 0.07087 0.07097\n",
            " 0.07113 0.07115 0.07123 0.07127 0.07146 0.07147 0.07182 0.07185 0.07188\n",
            " 0.07198 0.07207 0.07211 0.0722  0.0723  0.07234 0.07242 0.07253 0.07259\n",
            " 0.07262 0.07277 0.07285 0.07287 0.07307 0.07313 0.07319 0.0732  0.07343\n",
            " 0.07351 0.07371 0.07376 0.0738  0.07393 0.07397 0.07399 0.07408 0.07409\n",
            " 0.07418 0.07421 0.07425 0.07427 0.07429 0.07434 0.07463 0.0747  0.07474\n",
            " 0.07526 0.07538 0.07552 0.07568 0.07569 0.07582 0.07587 0.0759  0.07592\n",
            " 0.07599 0.07602 0.07609 0.0761  0.07613 0.07614 0.07615 0.07619 0.07623\n",
            " 0.07628 0.07661 0.07662 0.07664 0.07675 0.07676 0.07678 0.07683 0.07685\n",
            " 0.07686 0.07698 0.07699 0.07701 0.07712 0.07722 0.07729 0.07732 0.07735\n",
            " 0.07738 0.07745 0.07748 0.07757 0.07764 0.07773 0.07779 0.07782 0.07787\n",
            " 0.07796 0.07802 0.07804 0.07806 0.07809 0.0781  0.0782  0.07834 0.07842\n",
            " 0.07848 0.07849 0.07858 0.07863 0.07867 0.07873 0.07875 0.07898 0.079\n",
            " 0.07918 0.07919 0.0792  0.07924 0.07944 0.07953 0.07957 0.07987 0.07993\n",
            " 0.07999 0.08004 0.08006 0.08022 0.08024 0.08025 0.08052 0.08061 0.08067\n",
            " 0.08075 0.08083 0.08096 0.08113 0.08118 0.08134 0.08136 0.08147 0.08151\n",
            " 0.08158 0.08174 0.08175 0.08178 0.08181 0.08183 0.08187 0.08194 0.08198\n",
            " 0.082   0.08203 0.08218 0.08225 0.08234 0.08251 0.08253 0.08269 0.08278\n",
            " 0.08283 0.08284 0.08294 0.08301 0.08304 0.08321 0.08328 0.08351 0.08362\n",
            " 0.08365 0.08368 0.08385 0.08452 0.08465 0.08473 0.08482 0.08488 0.0849\n",
            " 0.08496 0.08503 0.08523 0.08524 0.08541 0.08549 0.08553 0.08557 0.08579\n",
            " 0.08631 0.08633 0.08665 0.08701 0.08732 0.08756 0.08762 0.08763 0.08764\n",
            " 0.08797 0.08799 0.08815 0.08824 0.08832 0.08839 0.08851 0.08858 0.08865\n",
            " 0.08893 0.08902 0.08911 0.0895  0.08982 0.08988 0.08999 0.09026 0.09031\n",
            " 0.0906  0.09061 0.09075 0.0908  0.09082 0.09124 0.09136 0.09166 0.09185\n",
            " 0.09187 0.09203 0.09208 0.09211 0.09215 0.09218 0.09221 0.09223 0.09241\n",
            " 0.09261 0.0927  0.09288 0.093   0.09326 0.09333 0.09349 0.09353 0.09359\n",
            " 0.09382 0.09438 0.09445 0.09464 0.09469 0.09479 0.09519 0.09532 0.09564\n",
            " 0.09584 0.09585 0.09606 0.09618 0.09638 0.09646 0.09671 0.09702 0.0974\n",
            " 0.09772 0.09782 0.09825 0.0987  0.09873 0.09879 0.09929 0.09938 0.09952\n",
            " 0.09964 0.09981 0.1005  0.1007  0.101   0.1013  0.1014  0.1017  0.1019\n",
            " 0.1023  0.1024  0.1026  0.1027  0.103   0.1031  0.1033  0.1034  0.1038\n",
            " 0.1043  0.1048  0.1049  0.1051  0.1055  0.1059  0.1063  0.1064  0.1065\n",
            " 0.1066  0.1067  0.108   0.1082  0.1086  0.1094  0.1108  0.1118  0.1123\n",
            " 0.1132  0.1142  0.1151  0.1162  0.1168  0.1175  0.1178  0.1179  0.1189\n",
            " 0.1191  0.1198  0.12    0.1204  0.1224  0.1243  0.1244  0.1249  0.1252\n",
            " 0.1259  0.1275  0.1297  0.1341  0.1364  0.1403  0.1405  0.1431  0.1446\n",
            " 0.173  ]\n",
            "         id  radius_mean  texture_mean  perimeter_mean  area_mean  \\\n",
            "0    842302        17.99         10.38          122.80     1001.0   \n",
            "1    842517        20.57         17.77          132.90     1326.0   \n",
            "2  84300903        19.69         21.25          130.00     1203.0   \n",
            "3  84348301        11.42         20.38           77.58      386.1   \n",
            "4  84358402        20.29         14.34          135.10     1297.0   \n",
            "5    843786        12.45         15.70           82.57      477.1   \n",
            "6    844359        18.25         19.98          119.60     1040.0   \n",
            "7  84458202        13.71         20.83           90.20      577.9   \n",
            "8    844981        13.00         21.82           87.50      519.8   \n",
            "9  84501001        12.46         24.04           83.97      475.9   \n",
            "\n",
            "   smoothness_mean  compactness_mean  concavity_mean  concave_points_mean  \\\n",
            "0          0.11840           0.27760         0.30010              0.14710   \n",
            "1          0.08474           0.07864         0.08690              0.07017   \n",
            "2          0.10960           0.15990         0.19740              0.12790   \n",
            "3          0.14250           0.28390         0.24140              0.10520   \n",
            "4          0.10030           0.13280         0.19800              0.10430   \n",
            "5          0.12780           0.17000         0.15780              0.08089   \n",
            "6          0.09463           0.10900         0.11270              0.07400   \n",
            "7          0.11890           0.16450         0.09366              0.05985   \n",
            "8          0.12730           0.19320         0.18590              0.09353   \n",
            "9          0.11860           0.23960         0.22730              0.08543   \n",
            "\n",
            "   symmetry_mean  ...  radius_worst  texture_worst  perimeter_worst  \\\n",
            "0         0.2419  ...         25.38          17.33           184.60   \n",
            "1         0.1812  ...         24.99          23.41           158.80   \n",
            "2         0.2069  ...         23.57          25.53           152.50   \n",
            "3         0.2597  ...         14.91          26.50            98.87   \n",
            "4         0.1809  ...         22.54          16.67           152.20   \n",
            "5         0.2087  ...         15.47          23.75           103.40   \n",
            "6         0.1794  ...         22.88          27.66           153.20   \n",
            "7         0.2196  ...         17.06          28.14           110.60   \n",
            "8         0.2350  ...         15.49          30.73           106.20   \n",
            "9         0.2030  ...         15.09          40.68            97.65   \n",
            "\n",
            "   area_worst  smoothness_worst  compactness_worst  concavity_worst  \\\n",
            "0      2019.0            0.1622             0.6656           0.7119   \n",
            "1      1956.0            0.1238             0.1866           0.2416   \n",
            "2      1709.0            0.1444             0.4245           0.4504   \n",
            "3       567.7            0.2098             0.8663           0.6869   \n",
            "4      1575.0            0.1374             0.2050           0.4000   \n",
            "5       741.6            0.1791             0.5249           0.5355   \n",
            "6      1606.0            0.1442             0.2576           0.3784   \n",
            "7       897.0            0.1654             0.3682           0.2678   \n",
            "8       739.3            0.1703             0.5401           0.5390   \n",
            "9       711.4            0.1853             1.0580           1.1050   \n",
            "\n",
            "   concave_points_worst  symmetry_worst  fractal_dimension_worst  \n",
            "0                0.2654          0.4601                  0.11890  \n",
            "1                0.1860          0.2750                  0.08902  \n",
            "2                0.2430          0.3613                  0.08758  \n",
            "3                0.2575          0.6638                  0.17300  \n",
            "4                0.1625          0.2364                  0.07678  \n",
            "5                0.1741          0.3985                  0.12440  \n",
            "6                0.1932          0.3063                  0.08368  \n",
            "7                0.1556          0.3196                  0.11510  \n",
            "8                0.2060          0.4378                  0.10720  \n",
            "9                0.2210          0.4366                  0.20750  \n",
            "\n",
            "[10 rows x 31 columns]\n"
          ]
        }
      ]
    },
    {
      "cell_type": "code",
      "source": [
        "data.smoothness_mean"
      ],
      "metadata": {
        "colab": {
          "base_uri": "https://localhost:8080/"
        },
        "id": "je00I0RYKuza",
        "outputId": "3753ee51-40a1-45ba-a65e-eb79b8e1cb97"
      },
      "execution_count": 42,
      "outputs": [
        {
          "output_type": "execute_result",
          "data": {
            "text/plain": [
              "0      0.11840\n",
              "1      0.08474\n",
              "2      0.10960\n",
              "3      0.14250\n",
              "4      0.10030\n",
              "        ...   \n",
              "564    0.11100\n",
              "565    0.09780\n",
              "566    0.08455\n",
              "567    0.11780\n",
              "568    0.05263\n",
              "Name: smoothness_mean, Length: 569, dtype: float64"
            ]
          },
          "metadata": {},
          "execution_count": 42
        }
      ]
    },
    {
      "cell_type": "code",
      "source": [
        "data.fractal_dimension_mean\n"
      ],
      "metadata": {
        "colab": {
          "base_uri": "https://localhost:8080/"
        },
        "id": "aEsf-eF9MmbM",
        "outputId": "a02fac87-6c1f-43c7-8810-f7005af29c47"
      },
      "execution_count": 46,
      "outputs": [
        {
          "output_type": "execute_result",
          "data": {
            "text/plain": [
              "0      0.07871\n",
              "1      0.05667\n",
              "2      0.05999\n",
              "3      0.09744\n",
              "4      0.05883\n",
              "        ...   \n",
              "564    0.05623\n",
              "565    0.05533\n",
              "566    0.05648\n",
              "567    0.07016\n",
              "568    0.05884\n",
              "Name: fractal_dimension_mean, Length: 569, dtype: float64"
            ]
          },
          "metadata": {},
          "execution_count": 46
        }
      ]
    },
    {
      "cell_type": "code",
      "source": [
        "y=data.fractal_dimension_worst\n",
        "print(y.tail(15))"
      ],
      "metadata": {
        "colab": {
          "base_uri": "https://localhost:8080/"
        },
        "id": "z3EiJVTwMxb3",
        "outputId": "97133990-fb31-4a4e-8331-9db3f6e7c661"
      },
      "execution_count": 47,
      "outputs": [
        {
          "output_type": "stream",
          "name": "stdout",
          "text": [
            "554    0.07242\n",
            "555    0.08283\n",
            "556    0.06742\n",
            "557    0.06969\n",
            "558    0.08004\n",
            "559    0.08732\n",
            "560    0.08321\n",
            "561    0.05905\n",
            "562    0.14090\n",
            "563    0.09873\n",
            "564    0.07115\n",
            "565    0.06637\n",
            "566    0.07820\n",
            "567    0.12400\n",
            "568    0.07039\n",
            "Name: fractal_dimension_worst, dtype: float64\n"
          ]
        }
      ]
    },
    {
      "cell_type": "code",
      "source": [
        "data.shape"
      ],
      "metadata": {
        "colab": {
          "base_uri": "https://localhost:8080/"
        },
        "id": "LmIXgDDJM1HF",
        "outputId": "6e8e61be-f186-4fb3-800b-ab64794db536"
      },
      "execution_count": 48,
      "outputs": [
        {
          "output_type": "execute_result",
          "data": {
            "text/plain": [
              "(569, 31)"
            ]
          },
          "metadata": {},
          "execution_count": 48
        }
      ]
    },
    {
      "cell_type": "code",
      "source": [
        "# split data\n",
        "X=data.iloc[:,0:-1] # x os ndependant variable\n",
        "x=data.iloc[:,0:-1] # y is dependant variable"
      ],
      "metadata": {
        "id": "MVLW_cBLN6ql"
      },
      "execution_count": 49,
      "outputs": []
    },
    {
      "cell_type": "code",
      "source": [
        "from sklearn.model_selection import train_test_split\n",
        "X_train, X_test, y_train, y_test= train_test_split(X, y, test_size=0.2, random_state=2020)\n",
        "\n",
        "print('sahpe of X_train=',X_train.shape)\n",
        "\n",
        "print('sahpe of y_train=',y_train.shape)\n",
        "\n",
        "print('sahpe of X_test=',X_test.shape)\n",
        "\n",
        "print('sahpe of y_test=',y_test.shape)"
      ],
      "metadata": {
        "colab": {
          "base_uri": "https://localhost:8080/"
        },
        "id": "zKTQhvq4OZmJ",
        "outputId": "9abef73b-67ef-44aa-e12c-bcbac33c4195"
      },
      "execution_count": 50,
      "outputs": [
        {
          "output_type": "stream",
          "name": "stdout",
          "text": [
            "sahpe of X_train= (455, 30)\n",
            "sahpe of y_train= (455,)\n",
            "sahpe of X_test= (114, 30)\n",
            "sahpe of y_test= (114,)\n"
          ]
        }
      ]
    },
    {
      "cell_type": "markdown",
      "source": [
        "**train KNN classification model**"
      ],
      "metadata": {
        "id": "r0Qwk35jReW_"
      }
    },
    {
      "cell_type": "code",
      "source": [
        "from sklearn.neighbors import KNeighborsRegressor"
      ],
      "metadata": {
        "id": "9VafPHNVRo1A"
      },
      "execution_count": 51,
      "outputs": []
    },
    {
      "cell_type": "code",
      "source": [
        "Regressor=KNeighborsRegressor(n_neighbors=3)\n",
        "Regressor.fit(X_train, y_train)"
      ],
      "metadata": {
        "colab": {
          "base_uri": "https://localhost:8080/",
          "height": 75
        },
        "id": "VMPSPe2PSOKv",
        "outputId": "e1c15871-c9ed-49ce-bf44-110c87b4850e"
      },
      "execution_count": 53,
      "outputs": [
        {
          "output_type": "execute_result",
          "data": {
            "text/plain": [
              "KNeighborsRegressor(n_neighbors=3)"
            ],
            "text/html": [
              "<style>#sk-container-id-3 {color: black;background-color: white;}#sk-container-id-3 pre{padding: 0;}#sk-container-id-3 div.sk-toggleable {background-color: white;}#sk-container-id-3 label.sk-toggleable__label {cursor: pointer;display: block;width: 100%;margin-bottom: 0;padding: 0.3em;box-sizing: border-box;text-align: center;}#sk-container-id-3 label.sk-toggleable__label-arrow:before {content: \"▸\";float: left;margin-right: 0.25em;color: #696969;}#sk-container-id-3 label.sk-toggleable__label-arrow:hover:before {color: black;}#sk-container-id-3 div.sk-estimator:hover label.sk-toggleable__label-arrow:before {color: black;}#sk-container-id-3 div.sk-toggleable__content {max-height: 0;max-width: 0;overflow: hidden;text-align: left;background-color: #f0f8ff;}#sk-container-id-3 div.sk-toggleable__content pre {margin: 0.2em;color: black;border-radius: 0.25em;background-color: #f0f8ff;}#sk-container-id-3 input.sk-toggleable__control:checked~div.sk-toggleable__content {max-height: 200px;max-width: 100%;overflow: auto;}#sk-container-id-3 input.sk-toggleable__control:checked~label.sk-toggleable__label-arrow:before {content: \"▾\";}#sk-container-id-3 div.sk-estimator input.sk-toggleable__control:checked~label.sk-toggleable__label {background-color: #d4ebff;}#sk-container-id-3 div.sk-label input.sk-toggleable__control:checked~label.sk-toggleable__label {background-color: #d4ebff;}#sk-container-id-3 input.sk-hidden--visually {border: 0;clip: rect(1px 1px 1px 1px);clip: rect(1px, 1px, 1px, 1px);height: 1px;margin: -1px;overflow: hidden;padding: 0;position: absolute;width: 1px;}#sk-container-id-3 div.sk-estimator {font-family: monospace;background-color: #f0f8ff;border: 1px dotted black;border-radius: 0.25em;box-sizing: border-box;margin-bottom: 0.5em;}#sk-container-id-3 div.sk-estimator:hover {background-color: #d4ebff;}#sk-container-id-3 div.sk-parallel-item::after {content: \"\";width: 100%;border-bottom: 1px solid gray;flex-grow: 1;}#sk-container-id-3 div.sk-label:hover label.sk-toggleable__label {background-color: #d4ebff;}#sk-container-id-3 div.sk-serial::before {content: \"\";position: absolute;border-left: 1px solid gray;box-sizing: border-box;top: 0;bottom: 0;left: 50%;z-index: 0;}#sk-container-id-3 div.sk-serial {display: flex;flex-direction: column;align-items: center;background-color: white;padding-right: 0.2em;padding-left: 0.2em;position: relative;}#sk-container-id-3 div.sk-item {position: relative;z-index: 1;}#sk-container-id-3 div.sk-parallel {display: flex;align-items: stretch;justify-content: center;background-color: white;position: relative;}#sk-container-id-3 div.sk-item::before, #sk-container-id-3 div.sk-parallel-item::before {content: \"\";position: absolute;border-left: 1px solid gray;box-sizing: border-box;top: 0;bottom: 0;left: 50%;z-index: -1;}#sk-container-id-3 div.sk-parallel-item {display: flex;flex-direction: column;z-index: 1;position: relative;background-color: white;}#sk-container-id-3 div.sk-parallel-item:first-child::after {align-self: flex-end;width: 50%;}#sk-container-id-3 div.sk-parallel-item:last-child::after {align-self: flex-start;width: 50%;}#sk-container-id-3 div.sk-parallel-item:only-child::after {width: 0;}#sk-container-id-3 div.sk-dashed-wrapped {border: 1px dashed gray;margin: 0 0.4em 0.5em 0.4em;box-sizing: border-box;padding-bottom: 0.4em;background-color: white;}#sk-container-id-3 div.sk-label label {font-family: monospace;font-weight: bold;display: inline-block;line-height: 1.2em;}#sk-container-id-3 div.sk-label-container {text-align: center;}#sk-container-id-3 div.sk-container {/* jupyter's `normalize.less` sets `[hidden] { display: none; }` but bootstrap.min.css set `[hidden] { display: none !important; }` so we also need the `!important` here to be able to override the default hidden behavior on the sphinx rendered scikit-learn.org. See: https://github.com/scikit-learn/scikit-learn/issues/21755 */display: inline-block !important;position: relative;}#sk-container-id-3 div.sk-text-repr-fallback {display: none;}</style><div id=\"sk-container-id-3\" class=\"sk-top-container\"><div class=\"sk-text-repr-fallback\"><pre>KNeighborsRegressor(n_neighbors=3)</pre><b>In a Jupyter environment, please rerun this cell to show the HTML representation or trust the notebook. <br />On GitHub, the HTML representation is unable to render, please try loading this page with nbviewer.org.</b></div><div class=\"sk-container\" hidden><div class=\"sk-item\"><div class=\"sk-estimator sk-toggleable\"><input class=\"sk-toggleable__control sk-hidden--visually\" id=\"sk-estimator-id-3\" type=\"checkbox\" checked><label for=\"sk-estimator-id-3\" class=\"sk-toggleable__label sk-toggleable__label-arrow\">KNeighborsRegressor</label><div class=\"sk-toggleable__content\"><pre>KNeighborsRegressor(n_neighbors=3)</pre></div></div></div></div></div>"
            ]
          },
          "metadata": {},
          "execution_count": 53
        }
      ]
    },
    {
      "cell_type": "code",
      "source": [
        "regressor.score(X_test,y_test)"
      ],
      "metadata": {
        "colab": {
          "base_uri": "https://localhost:8080/"
        },
        "id": "QGAYavIEUB2A",
        "outputId": "710fec66-dbcf-4fc3-c9e6-63e52428866a"
      },
      "execution_count": 54,
      "outputs": [
        {
          "output_type": "execute_result",
          "data": {
            "text/plain": [
              "0.08046498467720764"
            ]
          },
          "metadata": {},
          "execution_count": 54
        }
      ]
    },
    {
      "cell_type": "code",
      "source": [],
      "metadata": {
        "colab": {
          "base_uri": "https://localhost:8080/"
        },
        "id": "1h8JVSNdSY9J",
        "outputId": "daf5d4cb-c6dc-41d9-bda7-29fbcde2639f"
      },
      "execution_count": 28,
      "outputs": [
        {
          "output_type": "execute_result",
          "data": {
            "text/plain": [
              "0.08046498467720764"
            ]
          },
          "metadata": {},
          "execution_count": 28
        }
      ]
    },
    {
      "cell_type": "code",
      "source": [],
      "metadata": {
        "id": "Gux94dNEWlkI"
      },
      "execution_count": null,
      "outputs": []
    },
    {
      "cell_type": "code",
      "source": [],
      "metadata": {
        "id": "gAFI4Sq6Wc45"
      },
      "execution_count": 35,
      "outputs": []
    }
  ]
}