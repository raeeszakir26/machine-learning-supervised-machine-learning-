{
  "nbformat": 4,
  "nbformat_minor": 0,
  "metadata": {
    "colab": {
      "provenance": []
    },
    "kernelspec": {
      "name": "python3",
      "display_name": "Python 3"
    },
    "language_info": {
      "name": "python"
    }
  },
  "cells": [
    {
      "cell_type": "code",
      "execution_count": 2,
      "metadata": {
        "colab": {
          "base_uri": "https://localhost:8080/",
          "height": 143
        },
        "id": "qZ7lYZIoC5GP",
        "outputId": "b8d07abe-ed1c-4c6b-cf40-253fc8d23186"
      },
      "outputs": [
        {
          "output_type": "execute_result",
          "data": {
            "text/plain": [
              "   Unnamed: 0  cgpa     iq  placement\n",
              "0           0   6.8  123.0          1\n",
              "1           1   5.9  106.0          0\n",
              "2           2   5.3  121.0          0"
            ],
            "text/html": [
              "\n",
              "  <div id=\"df-1f18c0ca-603a-4d72-b753-c542f13be7af\" class=\"colab-df-container\">\n",
              "    <div>\n",
              "<style scoped>\n",
              "    .dataframe tbody tr th:only-of-type {\n",
              "        vertical-align: middle;\n",
              "    }\n",
              "\n",
              "    .dataframe tbody tr th {\n",
              "        vertical-align: top;\n",
              "    }\n",
              "\n",
              "    .dataframe thead th {\n",
              "        text-align: right;\n",
              "    }\n",
              "</style>\n",
              "<table border=\"1\" class=\"dataframe\">\n",
              "  <thead>\n",
              "    <tr style=\"text-align: right;\">\n",
              "      <th></th>\n",
              "      <th>Unnamed: 0</th>\n",
              "      <th>cgpa</th>\n",
              "      <th>iq</th>\n",
              "      <th>placement</th>\n",
              "    </tr>\n",
              "  </thead>\n",
              "  <tbody>\n",
              "    <tr>\n",
              "      <th>0</th>\n",
              "      <td>0</td>\n",
              "      <td>6.8</td>\n",
              "      <td>123.0</td>\n",
              "      <td>1</td>\n",
              "    </tr>\n",
              "    <tr>\n",
              "      <th>1</th>\n",
              "      <td>1</td>\n",
              "      <td>5.9</td>\n",
              "      <td>106.0</td>\n",
              "      <td>0</td>\n",
              "    </tr>\n",
              "    <tr>\n",
              "      <th>2</th>\n",
              "      <td>2</td>\n",
              "      <td>5.3</td>\n",
              "      <td>121.0</td>\n",
              "      <td>0</td>\n",
              "    </tr>\n",
              "  </tbody>\n",
              "</table>\n",
              "</div>\n",
              "    <div class=\"colab-df-buttons\">\n",
              "\n",
              "  <div class=\"colab-df-container\">\n",
              "    <button class=\"colab-df-convert\" onclick=\"convertToInteractive('df-1f18c0ca-603a-4d72-b753-c542f13be7af')\"\n",
              "            title=\"Convert this dataframe to an interactive table.\"\n",
              "            style=\"display:none;\">\n",
              "\n",
              "  <svg xmlns=\"http://www.w3.org/2000/svg\" height=\"24px\" viewBox=\"0 -960 960 960\">\n",
              "    <path d=\"M120-120v-720h720v720H120Zm60-500h600v-160H180v160Zm220 220h160v-160H400v160Zm0 220h160v-160H400v160ZM180-400h160v-160H180v160Zm440 0h160v-160H620v160ZM180-180h160v-160H180v160Zm440 0h160v-160H620v160Z\"/>\n",
              "  </svg>\n",
              "    </button>\n",
              "\n",
              "  <style>\n",
              "    .colab-df-container {\n",
              "      display:flex;\n",
              "      gap: 12px;\n",
              "    }\n",
              "\n",
              "    .colab-df-convert {\n",
              "      background-color: #E8F0FE;\n",
              "      border: none;\n",
              "      border-radius: 50%;\n",
              "      cursor: pointer;\n",
              "      display: none;\n",
              "      fill: #1967D2;\n",
              "      height: 32px;\n",
              "      padding: 0 0 0 0;\n",
              "      width: 32px;\n",
              "    }\n",
              "\n",
              "    .colab-df-convert:hover {\n",
              "      background-color: #E2EBFA;\n",
              "      box-shadow: 0px 1px 2px rgba(60, 64, 67, 0.3), 0px 1px 3px 1px rgba(60, 64, 67, 0.15);\n",
              "      fill: #174EA6;\n",
              "    }\n",
              "\n",
              "    .colab-df-buttons div {\n",
              "      margin-bottom: 4px;\n",
              "    }\n",
              "\n",
              "    [theme=dark] .colab-df-convert {\n",
              "      background-color: #3B4455;\n",
              "      fill: #D2E3FC;\n",
              "    }\n",
              "\n",
              "    [theme=dark] .colab-df-convert:hover {\n",
              "      background-color: #434B5C;\n",
              "      box-shadow: 0px 1px 3px 1px rgba(0, 0, 0, 0.15);\n",
              "      filter: drop-shadow(0px 1px 2px rgba(0, 0, 0, 0.3));\n",
              "      fill: #FFFFFF;\n",
              "    }\n",
              "  </style>\n",
              "\n",
              "    <script>\n",
              "      const buttonEl =\n",
              "        document.querySelector('#df-1f18c0ca-603a-4d72-b753-c542f13be7af button.colab-df-convert');\n",
              "      buttonEl.style.display =\n",
              "        google.colab.kernel.accessAllowed ? 'block' : 'none';\n",
              "\n",
              "      async function convertToInteractive(key) {\n",
              "        const element = document.querySelector('#df-1f18c0ca-603a-4d72-b753-c542f13be7af');\n",
              "        const dataTable =\n",
              "          await google.colab.kernel.invokeFunction('convertToInteractive',\n",
              "                                                    [key], {});\n",
              "        if (!dataTable) return;\n",
              "\n",
              "        const docLinkHtml = 'Like what you see? Visit the ' +\n",
              "          '<a target=\"_blank\" href=https://colab.research.google.com/notebooks/data_table.ipynb>data table notebook</a>'\n",
              "          + ' to learn more about interactive tables.';\n",
              "        element.innerHTML = '';\n",
              "        dataTable['output_type'] = 'display_data';\n",
              "        await google.colab.output.renderOutput(dataTable, element);\n",
              "        const docLink = document.createElement('div');\n",
              "        docLink.innerHTML = docLinkHtml;\n",
              "        element.appendChild(docLink);\n",
              "      }\n",
              "    </script>\n",
              "  </div>\n",
              "\n",
              "\n",
              "<div id=\"df-f8c78050-a01d-43c2-a07f-42b8ed428003\">\n",
              "  <button class=\"colab-df-quickchart\" onclick=\"quickchart('df-f8c78050-a01d-43c2-a07f-42b8ed428003')\"\n",
              "            title=\"Suggest charts\"\n",
              "            style=\"display:none;\">\n",
              "\n",
              "<svg xmlns=\"http://www.w3.org/2000/svg\" height=\"24px\"viewBox=\"0 0 24 24\"\n",
              "     width=\"24px\">\n",
              "    <g>\n",
              "        <path d=\"M19 3H5c-1.1 0-2 .9-2 2v14c0 1.1.9 2 2 2h14c1.1 0 2-.9 2-2V5c0-1.1-.9-2-2-2zM9 17H7v-7h2v7zm4 0h-2V7h2v10zm4 0h-2v-4h2v4z\"/>\n",
              "    </g>\n",
              "</svg>\n",
              "  </button>\n",
              "\n",
              "<style>\n",
              "  .colab-df-quickchart {\n",
              "      --bg-color: #E8F0FE;\n",
              "      --fill-color: #1967D2;\n",
              "      --hover-bg-color: #E2EBFA;\n",
              "      --hover-fill-color: #174EA6;\n",
              "      --disabled-fill-color: #AAA;\n",
              "      --disabled-bg-color: #DDD;\n",
              "  }\n",
              "\n",
              "  [theme=dark] .colab-df-quickchart {\n",
              "      --bg-color: #3B4455;\n",
              "      --fill-color: #D2E3FC;\n",
              "      --hover-bg-color: #434B5C;\n",
              "      --hover-fill-color: #FFFFFF;\n",
              "      --disabled-bg-color: #3B4455;\n",
              "      --disabled-fill-color: #666;\n",
              "  }\n",
              "\n",
              "  .colab-df-quickchart {\n",
              "    background-color: var(--bg-color);\n",
              "    border: none;\n",
              "    border-radius: 50%;\n",
              "    cursor: pointer;\n",
              "    display: none;\n",
              "    fill: var(--fill-color);\n",
              "    height: 32px;\n",
              "    padding: 0;\n",
              "    width: 32px;\n",
              "  }\n",
              "\n",
              "  .colab-df-quickchart:hover {\n",
              "    background-color: var(--hover-bg-color);\n",
              "    box-shadow: 0 1px 2px rgba(60, 64, 67, 0.3), 0 1px 3px 1px rgba(60, 64, 67, 0.15);\n",
              "    fill: var(--button-hover-fill-color);\n",
              "  }\n",
              "\n",
              "  .colab-df-quickchart-complete:disabled,\n",
              "  .colab-df-quickchart-complete:disabled:hover {\n",
              "    background-color: var(--disabled-bg-color);\n",
              "    fill: var(--disabled-fill-color);\n",
              "    box-shadow: none;\n",
              "  }\n",
              "\n",
              "  .colab-df-spinner {\n",
              "    border: 2px solid var(--fill-color);\n",
              "    border-color: transparent;\n",
              "    border-bottom-color: var(--fill-color);\n",
              "    animation:\n",
              "      spin 1s steps(1) infinite;\n",
              "  }\n",
              "\n",
              "  @keyframes spin {\n",
              "    0% {\n",
              "      border-color: transparent;\n",
              "      border-bottom-color: var(--fill-color);\n",
              "      border-left-color: var(--fill-color);\n",
              "    }\n",
              "    20% {\n",
              "      border-color: transparent;\n",
              "      border-left-color: var(--fill-color);\n",
              "      border-top-color: var(--fill-color);\n",
              "    }\n",
              "    30% {\n",
              "      border-color: transparent;\n",
              "      border-left-color: var(--fill-color);\n",
              "      border-top-color: var(--fill-color);\n",
              "      border-right-color: var(--fill-color);\n",
              "    }\n",
              "    40% {\n",
              "      border-color: transparent;\n",
              "      border-right-color: var(--fill-color);\n",
              "      border-top-color: var(--fill-color);\n",
              "    }\n",
              "    60% {\n",
              "      border-color: transparent;\n",
              "      border-right-color: var(--fill-color);\n",
              "    }\n",
              "    80% {\n",
              "      border-color: transparent;\n",
              "      border-right-color: var(--fill-color);\n",
              "      border-bottom-color: var(--fill-color);\n",
              "    }\n",
              "    90% {\n",
              "      border-color: transparent;\n",
              "      border-bottom-color: var(--fill-color);\n",
              "    }\n",
              "  }\n",
              "</style>\n",
              "\n",
              "  <script>\n",
              "    async function quickchart(key) {\n",
              "      const quickchartButtonEl =\n",
              "        document.querySelector('#' + key + ' button');\n",
              "      quickchartButtonEl.disabled = true;  // To prevent multiple clicks.\n",
              "      quickchartButtonEl.classList.add('colab-df-spinner');\n",
              "      try {\n",
              "        const charts = await google.colab.kernel.invokeFunction(\n",
              "            'suggestCharts', [key], {});\n",
              "      } catch (error) {\n",
              "        console.error('Error during call to suggestCharts:', error);\n",
              "      }\n",
              "      quickchartButtonEl.classList.remove('colab-df-spinner');\n",
              "      quickchartButtonEl.classList.add('colab-df-quickchart-complete');\n",
              "    }\n",
              "    (() => {\n",
              "      let quickchartButtonEl =\n",
              "        document.querySelector('#df-f8c78050-a01d-43c2-a07f-42b8ed428003 button');\n",
              "      quickchartButtonEl.style.display =\n",
              "        google.colab.kernel.accessAllowed ? 'block' : 'none';\n",
              "    })();\n",
              "  </script>\n",
              "</div>\n",
              "\n",
              "    </div>\n",
              "  </div>\n"
            ],
            "application/vnd.google.colaboratory.intrinsic+json": {
              "type": "dataframe",
              "variable_name": "dataset",
              "summary": "{\n  \"name\": \"dataset\",\n  \"rows\": 100,\n  \"fields\": [\n    {\n      \"column\": \"Unnamed: 0\",\n      \"properties\": {\n        \"dtype\": \"number\",\n        \"std\": 29,\n        \"min\": 0,\n        \"max\": 99,\n        \"num_unique_values\": 100,\n        \"samples\": [\n          83,\n          53,\n          70\n        ],\n        \"semantic_type\": \"\",\n        \"description\": \"\"\n      }\n    },\n    {\n      \"column\": \"cgpa\",\n      \"properties\": {\n        \"dtype\": \"number\",\n        \"std\": 1.1436336737775692,\n        \"min\": 3.3,\n        \"max\": 8.5,\n        \"num_unique_values\": 39,\n        \"samples\": [\n          6.3,\n          4.4,\n          5.8\n        ],\n        \"semantic_type\": \"\",\n        \"description\": \"\"\n      }\n    },\n    {\n      \"column\": \"iq\",\n      \"properties\": {\n        \"dtype\": \"number\",\n        \"std\": 39.944198451076595,\n        \"min\": 37.0,\n        \"max\": 233.0,\n        \"num_unique_values\": 71,\n        \"samples\": [\n          91.0,\n          123.0,\n          64.0\n        ],\n        \"semantic_type\": \"\",\n        \"description\": \"\"\n      }\n    },\n    {\n      \"column\": \"placement\",\n      \"properties\": {\n        \"dtype\": \"number\",\n        \"std\": 0,\n        \"min\": 0,\n        \"max\": 1,\n        \"num_unique_values\": 2,\n        \"samples\": [\n          0,\n          1\n        ],\n        \"semantic_type\": \"\",\n        \"description\": \"\"\n      }\n    }\n  ]\n}"
            }
          },
          "metadata": {},
          "execution_count": 2
        }
      ],
      "source": [
        "import pandas as pd\n",
        "\n",
        "dataset = pd.read_csv('/content/placement-dataset.csv')\n",
        "dataset.head(3)"
      ]
    },
    {
      "cell_type": "code",
      "source": [
        "x = dataset[['cgpa']]\n",
        "y = dataset['placement']"
      ],
      "metadata": {
        "id": "lzkam0JXDS3Q"
      },
      "execution_count": 7,
      "outputs": []
    },
    {
      "cell_type": "code",
      "source": [
        "from sklearn.linear_model import LinearRegression"
      ],
      "metadata": {
        "id": "Bdt-H6kJJbF7"
      },
      "execution_count": 35,
      "outputs": []
    },
    {
      "cell_type": "code",
      "source": [
        "from sklearn.model_selection import cross_val_score"
      ],
      "metadata": {
        "id": "3FcVT5KjJw1E"
      },
      "execution_count": 36,
      "outputs": []
    },
    {
      "cell_type": "code",
      "source": [
        "p = cross_val_score(LinearRegression(), x, y, cv=KFold(n_splits=5))\n",
        "p.sort()\n",
        "p*100"
      ],
      "metadata": {
        "colab": {
          "base_uri": "https://localhost:8080/"
        },
        "id": "U0Rl7ENIJ4Wc",
        "outputId": "8ac8e612-7bc2-4084-d14d-cedb3dc2915e"
      },
      "execution_count": 44,
      "outputs": [
        {
          "output_type": "execute_result",
          "data": {
            "text/plain": [
              "array([45.65495515, 64.0733655 , 66.50497024, 68.04323973, 76.50857122])"
            ]
          },
          "metadata": {},
          "execution_count": 44
        }
      ]
    },
    {
      "cell_type": "code",
      "source": [
        "\n",
        "knew_data = dataset.head(10)"
      ],
      "metadata": {
        "id": "YXudyRjeFJ1D"
      },
      "execution_count": 11,
      "outputs": []
    },
    {
      "cell_type": "code",
      "source": [
        "x_new = new_data[['cgpa']]\n",
        "y_new = new_data['placement']"
      ],
      "metadata": {
        "id": "UZqzWuRZFQJ8"
      },
      "execution_count": 12,
      "outputs": []
    },
    {
      "cell_type": "code",
      "source": [
        "from sklearn.model_selection import train_test_split, LeavePOut, LeaveOneOut, KFold, StratifiedKFold"
      ],
      "metadata": {
        "id": "wDAniqPqDktD"
      },
      "execution_count": 13,
      "outputs": []
    },
    {
      "cell_type": "code",
      "source": [
        "x_train, x_test, y_train, _y_test = train_test_split(x, y,test_size =0.2, random_state=42 )"
      ],
      "metadata": {
        "id": "a5q54ptEEB52"
      },
      "execution_count": 9,
      "outputs": []
    },
    {
      "cell_type": "markdown",
      "source": [
        "###LeaveOneOut Validation"
      ],
      "metadata": {
        "id": "zFuBArlZFnGp"
      }
    },
    {
      "cell_type": "code",
      "source": [
        "# takes no argument\n",
        "loo = LeaveOneOut()\n",
        "\n",
        "for train , test in loo.split(x_new, y_new):\n",
        "    print(train, test)"
      ],
      "metadata": {
        "colab": {
          "base_uri": "https://localhost:8080/"
        },
        "id": "JeYAVWzwEWHb",
        "outputId": "f67d3e24-46c7-4ae8-a284-8535da056375"
      },
      "execution_count": 24,
      "outputs": [
        {
          "output_type": "stream",
          "name": "stdout",
          "text": [
            "[1 2 3 4 5 6 7 8 9] [0]\n",
            "[0 2 3 4 5 6 7 8 9] [1]\n",
            "[0 1 3 4 5 6 7 8 9] [2]\n",
            "[0 1 2 4 5 6 7 8 9] [3]\n",
            "[0 1 2 3 5 6 7 8 9] [4]\n",
            "[0 1 2 3 4 6 7 8 9] [5]\n",
            "[0 1 2 3 4 5 7 8 9] [6]\n",
            "[0 1 2 3 4 5 6 8 9] [7]\n",
            "[0 1 2 3 4 5 6 7 9] [8]\n",
            "[0 1 2 3 4 5 6 7 8] [9]\n"
          ]
        }
      ]
    },
    {
      "cell_type": "markdown",
      "source": [
        "###LeavePOut Validation"
      ],
      "metadata": {
        "id": "uK7lcvJIFwPR"
      }
    },
    {
      "cell_type": "code",
      "source": [
        "# take argument\n",
        "lpo = LeavePOut(p=3)\n",
        "\n",
        "for train , test in lpo.split(x_new, y_new):\n",
        "    print(train, test)"
      ],
      "metadata": {
        "colab": {
          "base_uri": "https://localhost:8080/"
        },
        "id": "ybYq64iwE1j8",
        "outputId": "2b2efb32-2fa5-4813-f057-7c0109a64683"
      },
      "execution_count": 22,
      "outputs": [
        {
          "output_type": "stream",
          "name": "stdout",
          "text": [
            "[3 4 5 6 7 8 9] [0 1 2]\n",
            "[2 4 5 6 7 8 9] [0 1 3]\n",
            "[2 3 5 6 7 8 9] [0 1 4]\n",
            "[2 3 4 6 7 8 9] [0 1 5]\n",
            "[2 3 4 5 7 8 9] [0 1 6]\n",
            "[2 3 4 5 6 8 9] [0 1 7]\n",
            "[2 3 4 5 6 7 9] [0 1 8]\n",
            "[2 3 4 5 6 7 8] [0 1 9]\n",
            "[1 4 5 6 7 8 9] [0 2 3]\n",
            "[1 3 5 6 7 8 9] [0 2 4]\n",
            "[1 3 4 6 7 8 9] [0 2 5]\n",
            "[1 3 4 5 7 8 9] [0 2 6]\n",
            "[1 3 4 5 6 8 9] [0 2 7]\n",
            "[1 3 4 5 6 7 9] [0 2 8]\n",
            "[1 3 4 5 6 7 8] [0 2 9]\n",
            "[1 2 5 6 7 8 9] [0 3 4]\n",
            "[1 2 4 6 7 8 9] [0 3 5]\n",
            "[1 2 4 5 7 8 9] [0 3 6]\n",
            "[1 2 4 5 6 8 9] [0 3 7]\n",
            "[1 2 4 5 6 7 9] [0 3 8]\n",
            "[1 2 4 5 6 7 8] [0 3 9]\n",
            "[1 2 3 6 7 8 9] [0 4 5]\n",
            "[1 2 3 5 7 8 9] [0 4 6]\n",
            "[1 2 3 5 6 8 9] [0 4 7]\n",
            "[1 2 3 5 6 7 9] [0 4 8]\n",
            "[1 2 3 5 6 7 8] [0 4 9]\n",
            "[1 2 3 4 7 8 9] [0 5 6]\n",
            "[1 2 3 4 6 8 9] [0 5 7]\n",
            "[1 2 3 4 6 7 9] [0 5 8]\n",
            "[1 2 3 4 6 7 8] [0 5 9]\n",
            "[1 2 3 4 5 8 9] [0 6 7]\n",
            "[1 2 3 4 5 7 9] [0 6 8]\n",
            "[1 2 3 4 5 7 8] [0 6 9]\n",
            "[1 2 3 4 5 6 9] [0 7 8]\n",
            "[1 2 3 4 5 6 8] [0 7 9]\n",
            "[1 2 3 4 5 6 7] [0 8 9]\n",
            "[0 4 5 6 7 8 9] [1 2 3]\n",
            "[0 3 5 6 7 8 9] [1 2 4]\n",
            "[0 3 4 6 7 8 9] [1 2 5]\n",
            "[0 3 4 5 7 8 9] [1 2 6]\n",
            "[0 3 4 5 6 8 9] [1 2 7]\n",
            "[0 3 4 5 6 7 9] [1 2 8]\n",
            "[0 3 4 5 6 7 8] [1 2 9]\n",
            "[0 2 5 6 7 8 9] [1 3 4]\n",
            "[0 2 4 6 7 8 9] [1 3 5]\n",
            "[0 2 4 5 7 8 9] [1 3 6]\n",
            "[0 2 4 5 6 8 9] [1 3 7]\n",
            "[0 2 4 5 6 7 9] [1 3 8]\n",
            "[0 2 4 5 6 7 8] [1 3 9]\n",
            "[0 2 3 6 7 8 9] [1 4 5]\n",
            "[0 2 3 5 7 8 9] [1 4 6]\n",
            "[0 2 3 5 6 8 9] [1 4 7]\n",
            "[0 2 3 5 6 7 9] [1 4 8]\n",
            "[0 2 3 5 6 7 8] [1 4 9]\n",
            "[0 2 3 4 7 8 9] [1 5 6]\n",
            "[0 2 3 4 6 8 9] [1 5 7]\n",
            "[0 2 3 4 6 7 9] [1 5 8]\n",
            "[0 2 3 4 6 7 8] [1 5 9]\n",
            "[0 2 3 4 5 8 9] [1 6 7]\n",
            "[0 2 3 4 5 7 9] [1 6 8]\n",
            "[0 2 3 4 5 7 8] [1 6 9]\n",
            "[0 2 3 4 5 6 9] [1 7 8]\n",
            "[0 2 3 4 5 6 8] [1 7 9]\n",
            "[0 2 3 4 5 6 7] [1 8 9]\n",
            "[0 1 5 6 7 8 9] [2 3 4]\n",
            "[0 1 4 6 7 8 9] [2 3 5]\n",
            "[0 1 4 5 7 8 9] [2 3 6]\n",
            "[0 1 4 5 6 8 9] [2 3 7]\n",
            "[0 1 4 5 6 7 9] [2 3 8]\n",
            "[0 1 4 5 6 7 8] [2 3 9]\n",
            "[0 1 3 6 7 8 9] [2 4 5]\n",
            "[0 1 3 5 7 8 9] [2 4 6]\n",
            "[0 1 3 5 6 8 9] [2 4 7]\n",
            "[0 1 3 5 6 7 9] [2 4 8]\n",
            "[0 1 3 5 6 7 8] [2 4 9]\n",
            "[0 1 3 4 7 8 9] [2 5 6]\n",
            "[0 1 3 4 6 8 9] [2 5 7]\n",
            "[0 1 3 4 6 7 9] [2 5 8]\n",
            "[0 1 3 4 6 7 8] [2 5 9]\n",
            "[0 1 3 4 5 8 9] [2 6 7]\n",
            "[0 1 3 4 5 7 9] [2 6 8]\n",
            "[0 1 3 4 5 7 8] [2 6 9]\n",
            "[0 1 3 4 5 6 9] [2 7 8]\n",
            "[0 1 3 4 5 6 8] [2 7 9]\n",
            "[0 1 3 4 5 6 7] [2 8 9]\n",
            "[0 1 2 6 7 8 9] [3 4 5]\n",
            "[0 1 2 5 7 8 9] [3 4 6]\n",
            "[0 1 2 5 6 8 9] [3 4 7]\n",
            "[0 1 2 5 6 7 9] [3 4 8]\n",
            "[0 1 2 5 6 7 8] [3 4 9]\n",
            "[0 1 2 4 7 8 9] [3 5 6]\n",
            "[0 1 2 4 6 8 9] [3 5 7]\n",
            "[0 1 2 4 6 7 9] [3 5 8]\n",
            "[0 1 2 4 6 7 8] [3 5 9]\n",
            "[0 1 2 4 5 8 9] [3 6 7]\n",
            "[0 1 2 4 5 7 9] [3 6 8]\n",
            "[0 1 2 4 5 7 8] [3 6 9]\n",
            "[0 1 2 4 5 6 9] [3 7 8]\n",
            "[0 1 2 4 5 6 8] [3 7 9]\n",
            "[0 1 2 4 5 6 7] [3 8 9]\n",
            "[0 1 2 3 7 8 9] [4 5 6]\n",
            "[0 1 2 3 6 8 9] [4 5 7]\n",
            "[0 1 2 3 6 7 9] [4 5 8]\n",
            "[0 1 2 3 6 7 8] [4 5 9]\n",
            "[0 1 2 3 5 8 9] [4 6 7]\n",
            "[0 1 2 3 5 7 9] [4 6 8]\n",
            "[0 1 2 3 5 7 8] [4 6 9]\n",
            "[0 1 2 3 5 6 9] [4 7 8]\n",
            "[0 1 2 3 5 6 8] [4 7 9]\n",
            "[0 1 2 3 5 6 7] [4 8 9]\n",
            "[0 1 2 3 4 8 9] [5 6 7]\n",
            "[0 1 2 3 4 7 9] [5 6 8]\n",
            "[0 1 2 3 4 7 8] [5 6 9]\n",
            "[0 1 2 3 4 6 9] [5 7 8]\n",
            "[0 1 2 3 4 6 8] [5 7 9]\n",
            "[0 1 2 3 4 6 7] [5 8 9]\n",
            "[0 1 2 3 4 5 9] [6 7 8]\n",
            "[0 1 2 3 4 5 8] [6 7 9]\n",
            "[0 1 2 3 4 5 7] [6 8 9]\n",
            "[0 1 2 3 4 5 6] [7 8 9]\n"
          ]
        }
      ]
    },
    {
      "cell_type": "markdown",
      "source": [
        "###KFold Validation"
      ],
      "metadata": {
        "id": "hbsgmQqVG1W-"
      }
    },
    {
      "cell_type": "code",
      "source": [
        "# in kfold validation we split our data as we need\n",
        "kfv = KFold(n_splits=3)\n",
        "\n",
        "for train, test in kfv.split(x_new, y_new):\n",
        "    print(train, test)"
      ],
      "metadata": {
        "colab": {
          "base_uri": "https://localhost:8080/"
        },
        "id": "mPUPUgeSF7ZQ",
        "outputId": "5ae60838-690f-4698-9fc1-e6a237ba9083"
      },
      "execution_count": 31,
      "outputs": [
        {
          "output_type": "stream",
          "name": "stdout",
          "text": [
            "[4 5 6 7 8 9] [0 1 2 3]\n",
            "[0 1 2 3 7 8 9] [4 5 6]\n",
            "[0 1 2 3 4 5 6] [7 8 9]\n"
          ]
        }
      ]
    },
    {
      "cell_type": "markdown",
      "source": [
        "###StratifiedKFold Validation"
      ],
      "metadata": {
        "id": "msz4neueHQp8"
      }
    },
    {
      "cell_type": "code",
      "source": [
        "# works as same as kfold but is only for calssification not for regression\n",
        "sfk = StratifiedKFold()\n",
        "\n",
        "for train, test in sfk.split(x_new, y_new):\n",
        "    print(train, test)"
      ],
      "metadata": {
        "colab": {
          "base_uri": "https://localhost:8080/"
        },
        "id": "Nier19-kHLqh",
        "outputId": "045cd61c-6796-46ec-ad34-05de860c151e"
      },
      "execution_count": 32,
      "outputs": [
        {
          "output_type": "stream",
          "name": "stdout",
          "text": [
            "[2 3 4 5 6 7 8 9] [0 1]\n",
            "[0 1 4 5 6 7 8 9] [2 3]\n",
            "[0 1 2 3 6 7 8 9] [4 5]\n",
            "[0 1 2 3 4 5 8 9] [6 7]\n",
            "[0 1 2 3 4 5 6 7] [8 9]\n"
          ]
        },
        {
          "output_type": "stream",
          "name": "stderr",
          "text": [
            "/usr/local/lib/python3.10/dist-packages/sklearn/model_selection/_split.py:700: UserWarning: The least populated class in y has only 3 members, which is less than n_splits=5.\n",
            "  warnings.warn(\n"
          ]
        }
      ]
    },
    {
      "cell_type": "code",
      "source": [],
      "metadata": {
        "id": "FjDyYOfbHhHd"
      },
      "execution_count": null,
      "outputs": []
    }
  ]
}