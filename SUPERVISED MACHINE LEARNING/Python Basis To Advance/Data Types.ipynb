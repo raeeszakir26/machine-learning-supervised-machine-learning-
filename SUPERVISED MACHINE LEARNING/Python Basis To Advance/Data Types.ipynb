{
 "cells": [
  {
   "cell_type": "markdown",
   "id": "1fe2fdda",
   "metadata": {},
   "source": [
    "# List Data Structure "
   ]
  },
  {
   "cell_type": "code",
   "execution_count": 25,
   "id": "5c408686",
   "metadata": {},
   "outputs": [
    {
     "name": "stdout",
     "output_type": "stream",
     "text": [
      "3     1\n"
     ]
    }
   ],
   "source": [
    "# COUNT : is used to show how many time a number or and integer is repeated in a list\n",
    "\n",
    "integer = [11, 12 ,23, 34 ,34, 12,24, 10, 1, 34, 2 ,4 ,6]\n",
    "string = ['Pakistan', 'India', 'Afghistan', 'Bangladesh', 'Iran', 'Nepal']\n",
    "x = integer.count(34)\n",
    "x\n",
    "y = string.count('India')\n",
    "y\n",
    "print(x,\"   \",  y)"
   ]
  },
  {
   "cell_type": "code",
   "execution_count": 26,
   "id": "48c8d861",
   "metadata": {},
   "outputs": [
    {
     "name": "stdout",
     "output_type": "stream",
     "text": [
      "[11, 12, 23, 34, 34, 12, 24, 10, 1, 34, 2, 4, 6, 80]      ['Pakistan', 'India', 'Afghistan', 'Bangladesh', 'Iran', 'Nepal', 'Australia']\n",
      "\n",
      "[11, 12, 23, 34, 34, 12, 24, 10, 1, 34, 2, 4, 6, 80, ['Pakistan', 'India', 'Afghistan', 'Bangladesh', 'Iran', 'Nepal', 'Australia']]\n"
     ]
    }
   ],
   "source": [
    "# APPEND : us to add element at the last of list \n",
    "\n",
    "integer.append(80)\n",
    "string.append('Australia')\n",
    "\n",
    "print(integer, \"    \", string)\n",
    "print()\n",
    "\n",
    "# we can also append to list together\n",
    "\n",
    "integer.append(string)\n",
    "print(integer)"
   ]
  },
  {
   "cell_type": "code",
   "execution_count": 27,
   "id": "d2df4a76",
   "metadata": {},
   "outputs": [
    {
     "name": "stdout",
     "output_type": "stream",
     "text": [
      "[11, 12, 23, 34, 34, 12, 24, 10, 1, 34, 2, 4, 6, 80]     ['Pakistan', 'India', 'Bangladesh', 'Iran', 'Nepal', 'Australia']\n",
      "\n",
      "['Pakistan', 'India', 'Bangladesh', 'Iran', 'Nepal', 'Australia']                          Afghistan\n"
     ]
    }
   ],
   "source": [
    "# POP : use to removes an item at the specified index from the list.\n",
    "\n",
    "a = integer.pop(-1)\n",
    "b = string.pop(2)\n",
    "\n",
    "print(integer ,\"   \",string )\n",
    "print()\n",
    "print(a,\"                        \",b)\n"
   ]
  },
  {
   "cell_type": "code",
   "execution_count": 28,
   "id": "71e51339",
   "metadata": {},
   "outputs": [
    {
     "name": "stdout",
     "output_type": "stream",
     "text": [
      "[11, 12, 23, 34, 12, 24, 10, 1, 34, 2, 4, 6, 80]     ['Pakistan', 'India', 'Bangladesh', 'Nepal', 'Australia']\n"
     ]
    }
   ],
   "source": [
    "# Del : The del statement can be used to delete an entire list or specific item from the list\n",
    "\n",
    "del(integer[3])\n",
    "del(string[3])\n",
    "\n",
    "print(integer, '   ' ,string )"
   ]
  },
  {
   "cell_type": "code",
   "execution_count": 29,
   "id": "fbd13307",
   "metadata": {},
   "outputs": [
    {
     "name": "stdout",
     "output_type": "stream",
     "text": [
      "[11, 23, 34, 12, 24, 10, 1, 34, 2, 4, 6, 80]     ['Pakistan', 'Bangladesh', 'Nepal', 'Australia']\n"
     ]
    }
   ],
   "source": [
    "# Remove : to remove any item from the list directly put the value of the item \n",
    "\n",
    "integer.remove(12)\n",
    "string.remove('India')\n",
    "\n",
    "print(integer, \"   \", string)"
   ]
  },
  {
   "cell_type": "code",
   "execution_count": 30,
   "id": "593d32e2",
   "metadata": {},
   "outputs": [
    {
     "name": "stdout",
     "output_type": "stream",
     "text": [
      "[11, 23, 34, 12, 24, 25, 10, 1, 34, 2, 4, 6, 80]        ['Pakistan', 'Bangladesh', 'America', 'Nepal', 'Australia']\n"
     ]
    }
   ],
   "source": [
    "# Insert : we can insert any item at any postiion while the previous item moves to the right\n",
    "\n",
    "integer.insert(5, 25)\n",
    "string.insert(2, 'America')\n",
    "\n",
    "print(integer, '      ', string)"
   ]
  },
  {
   "cell_type": "code",
   "execution_count": 31,
   "id": "b187bb9b",
   "metadata": {},
   "outputs": [
    {
     "data": {
      "text/plain": [
       "(80, 1)"
      ]
     },
     "execution_count": 31,
     "metadata": {},
     "output_type": "execute_result"
    }
   ],
   "source": [
    "# Miximum : maximum value\n",
    "max(integer), min(integer)"
   ]
  },
  {
   "cell_type": "code",
   "execution_count": 32,
   "id": "ea769957",
   "metadata": {},
   "outputs": [
    {
     "name": "stdout",
     "output_type": "stream",
     "text": [
      "[1, 2, 4, 6, 10, 11, 12, 23, 24, 25, 34, 34, 80]\n"
     ]
    },
    {
     "data": {
      "text/plain": [
       "[80, 34, 34, 25, 24, 23, 12, 11, 10, 6, 4, 2, 1]"
      ]
     },
     "execution_count": 32,
     "metadata": {},
     "output_type": "execute_result"
    }
   ],
   "source": [
    "# Sorting : arrange in a sequence \n",
    "\n",
    "integer.sort()\n",
    "print(integer)\n",
    "\n",
    "# Rreverse sort\n",
    "\n",
    "integer.reverse()\n",
    "integer"
   ]
  },
  {
   "cell_type": "code",
   "execution_count": 33,
   "id": "33376b3d",
   "metadata": {},
   "outputs": [
    {
     "name": "stdout",
     "output_type": "stream",
     "text": [
      "['America', 'Australia', 'Bangladesh', 'Nepal', 'Pakistan']\n"
     ]
    },
    {
     "data": {
      "text/plain": [
       "['Pakistan', 'Nepal', 'Bangladesh', 'Australia', 'America']"
      ]
     },
     "execution_count": 33,
     "metadata": {},
     "output_type": "execute_result"
    }
   ],
   "source": [
    "string.sort()\n",
    "print(string)\n",
    "\n",
    "string.reverse()\n",
    "string"
   ]
  },
  {
   "cell_type": "code",
   "execution_count": 38,
   "id": "a544484f",
   "metadata": {},
   "outputs": [
    {
     "name": "stdout",
     "output_type": "stream",
     "text": [
      "[1, 2, 3, 4, 5, 'red', 'green', 'yellow']\n"
     ]
    }
   ],
   "source": [
    "# # extend : combine or concatnate two list together\n",
    "x = [1, 2, 3, 4, 5]\n",
    "y = ['red', 'green', 'yellow']\n",
    "\n",
    "x.extend(y)\n",
    "\n",
    "print(x)"
   ]
  },
  {
   "cell_type": "code",
   "execution_count": 47,
   "id": "c91c06bd",
   "metadata": {},
   "outputs": [
    {
     "data": {
      "text/plain": [
       "(1, 0)"
      ]
     },
     "execution_count": 47,
     "metadata": {},
     "output_type": "execute_result"
    }
   ],
   "source": [
    "# Index : get intex number of the specific value from the lsit\n",
    "\n",
    "x.index(2), y.index('red')"
   ]
  },
  {
   "cell_type": "markdown",
   "id": "e870386b",
   "metadata": {},
   "source": [
    "# List Iteration"
   ]
  },
  {
   "cell_type": "code",
   "execution_count": 63,
   "id": "2de7da4e",
   "metadata": {},
   "outputs": [
    {
     "name": "stdout",
     "output_type": "stream",
     "text": [
      "10\n",
      "9\n",
      "7\n",
      "6\n",
      "5\n",
      "3\n",
      "1\n"
     ]
    }
   ],
   "source": [
    "a = [1, 3, 5, 6, 7, 9 ,10]\n",
    "t=  len(a)\n",
    "\n",
    "for n in range(t-1, -1, -1):\n",
    "    print(a[n])"
   ]
  },
  {
   "cell_type": "code",
   "execution_count": 70,
   "id": "a808f390",
   "metadata": {},
   "outputs": [
    {
     "name": "stdout",
     "output_type": "stream",
     "text": [
      "1\n",
      "3\n",
      "5\n",
      "6\n",
      "7\n",
      "9\n",
      "10\n"
     ]
    }
   ],
   "source": [
    "# 2nd method \n",
    "\n",
    "for n in (a):\n",
    "    print(n)"
   ]
  },
  {
   "cell_type": "code",
   "execution_count": 75,
   "id": "d6e37bed",
   "metadata": {},
   "outputs": [
    {
     "name": "stdout",
     "output_type": "stream",
     "text": [
      "appel\n",
      "orange\n",
      "banana\n",
      "pineapple\n"
     ]
    }
   ],
   "source": [
    "x = ['appel', 'orange', 'banana', 'pineapple']\n",
    "s = len(x)\n",
    "\n",
    "for n in range(s):\n",
    "    print(x[n])"
   ]
  },
  {
   "cell_type": "code",
   "execution_count": 76,
   "id": "de996849",
   "metadata": {},
   "outputs": [
    {
     "name": "stdout",
     "output_type": "stream",
     "text": [
      "appel\n",
      "orange\n",
      "banana\n",
      "pineapple\n"
     ]
    }
   ],
   "source": [
    "for b in (x):\n",
    "    print(b)"
   ]
  },
  {
   "cell_type": "markdown",
   "id": "c8295a77",
   "metadata": {},
   "source": [
    "# List Comprehension"
   ]
  },
  {
   "cell_type": "code",
   "execution_count": 93,
   "id": "0b47935c",
   "metadata": {},
   "outputs": [
    {
     "name": "stdout",
     "output_type": "stream",
     "text": [
      "['stars', 1, 3, 5, 7, 9, 11, 13, 15, 17, 19]\n"
     ]
    }
   ],
   "source": [
    "a = ['stars']\n",
    "for l in range(1, 20, 2):\n",
    "    a.append(l)\n",
    "print(a)"
   ]
  },
  {
   "cell_type": "code",
   "execution_count": 88,
   "id": "ec1bc90e",
   "metadata": {},
   "outputs": [
    {
     "name": "stdout",
     "output_type": "stream",
     "text": [
      "[1, 2, 3, 4, 5, 6, 7, 8, 9, 10, 11, 12, 13, 14, 15, 16, 17, 18, 19, 20, 21, 22, 23, 24, 25, 26, 27, 28, 29, 30, 31, 32, 33, 34, 35, 36, 37, 38, 39, 40, 41, 42, 43, 44, 45, 46, 47, 48, 49]\n"
     ]
    }
   ],
   "source": [
    "n = [c for c in range(1, 50)]\n",
    "print(n)"
   ]
  },
  {
   "cell_type": "code",
   "execution_count": 135,
   "id": "d3a59a48",
   "metadata": {},
   "outputs": [
    {
     "name": "stdout",
     "output_type": "stream",
     "text": [
      "1 cow\n",
      "2 ox\n",
      "4 tiger\n",
      "5 lion\n",
      "6 monkey\n",
      "7 fox\n"
     ]
    }
   ],
   "source": [
    "# zip function : is used to iterate two lists at same time\n",
    "\n",
    "l = [1, 2, 4, 5, 6, 7]\n",
    "l1 = ['cow', 'ox', 'tiger', 'lion', 'monkey', 'fox']\n",
    "\n",
    "for a, b in zip(l, l1):\n",
    "    print(a, b)"
   ]
  },
  {
   "cell_type": "code",
   "execution_count": 138,
   "id": "15949d0f",
   "metadata": {},
   "outputs": [
    {
     "name": "stdout",
     "output_type": "stream",
     "text": [
      "1 cow\n",
      "2 ox\n",
      "4 tiger\n",
      "5 lion\n",
      "6 monkey\n",
      "7 fox\n"
     ]
    }
   ],
   "source": [
    "# 2nd method\n",
    "a = len(l)\n",
    "for n in range(a):\n",
    "    print(l[n], l1[n])"
   ]
  },
  {
   "cell_type": "code",
   "execution_count": 156,
   "id": "31525927",
   "metadata": {},
   "outputs": [
    {
     "name": "stdout",
     "output_type": "stream",
     "text": [
      "Enter the value i am a data scientist\n",
      "['i', 'am', 'a', 'data', 'scientist']\n"
     ]
    }
   ],
   "source": [
    "# convert string to list\n",
    "b = input('Enter the value ')\n",
    "l =b.split();\n",
    "print(l)"
   ]
  },
  {
   "cell_type": "code",
   "execution_count": null,
   "id": "683d8a4e",
   "metadata": {},
   "outputs": [],
   "source": [
    "a = []\n",
    "for n in range(4):\n",
    "    c =  input('Enter the value'+str(a)+':-')\n",
    "    a.append(n)\n",
    "print(l)"
   ]
  },
  {
   "cell_type": "markdown",
   "id": "68714d55",
   "metadata": {},
   "source": [
    "# Tuple Data Structure"
   ]
  },
  {
   "cell_type": "code",
   "execution_count": 104,
   "id": "3cf06010",
   "metadata": {},
   "outputs": [
    {
     "name": "stdout",
     "output_type": "stream",
     "text": [
      "(12, 23, 34, 23, 34, 1, 3, 5, 6) <class 'tuple'>\n"
     ]
    }
   ],
   "source": [
    "a = (12, 23, 34, 23, 34, 1, 3, 5, 6)\n",
    "print(a, type(a))"
   ]
  },
  {
   "cell_type": "code",
   "execution_count": 115,
   "id": "affdfa8e",
   "metadata": {},
   "outputs": [
    {
     "data": {
      "text/plain": [
       "(1, 34, '   ', [1, 3, 5, 6, 12, 23, 23, 34, 34], '    ', 141, 0)"
      ]
     },
     "execution_count": 115,
     "metadata": {},
     "output_type": "execute_result"
    }
   ],
   "source": [
    "min(a), max(a),'   ', sorted(a),'    ', sum(a),'    ' a.index(12)"
   ]
  },
  {
   "cell_type": "code",
   "execution_count": 131,
   "id": "3b874102",
   "metadata": {},
   "outputs": [
    {
     "name": "stdout",
     "output_type": "stream",
     "text": [
      "banana\n",
      "2\n",
      "cherry\n",
      "mango\n",
      "5\n",
      "6\n"
     ]
    }
   ],
   "source": [
    "tup = ('banana', 2,'cherry', 'mango', 5, 6)\n",
    "a = len(tup)\n",
    "\n",
    "for n in range(a):\n",
    "    print(tup[n])"
   ]
  },
  {
   "cell_type": "markdown",
   "id": "044b691e",
   "metadata": {},
   "source": [
    "# Set Data Structure"
   ]
  },
  {
   "cell_type": "code",
   "execution_count": 2,
   "id": "d0869ba1",
   "metadata": {},
   "outputs": [
    {
     "name": "stdout",
     "output_type": "stream",
     "text": [
      "{1, 2, 3, 4, 5, 6} <class 'set'>\n"
     ]
    }
   ],
   "source": [
    "st = {1, 2, 3 , 4, 5, 6}\n",
    "print(st, type(st))"
   ]
  },
  {
   "cell_type": "code",
   "execution_count": 6,
   "id": "0b9a5fa2",
   "metadata": {},
   "outputs": [
    {
     "data": {
      "text/plain": [
       "{1, 2, 3, 4, 5, 6, 20}"
      ]
     },
     "execution_count": 6,
     "metadata": {},
     "output_type": "execute_result"
    }
   ],
   "source": [
    "# Add\n",
    "st.add(20)\n",
    "st"
   ]
  },
  {
   "cell_type": "code",
   "execution_count": 12,
   "id": "db18eca8",
   "metadata": {},
   "outputs": [
    {
     "data": {
      "text/plain": [
       "{2, 3, 4, 5, 6}"
      ]
     },
     "execution_count": 12,
     "metadata": {},
     "output_type": "execute_result"
    }
   ],
   "source": [
    "# Remove \n",
    "st.remove(20)\n",
    "st"
   ]
  },
  {
   "cell_type": "code",
   "execution_count": 16,
   "id": "4ea26a0b",
   "metadata": {},
   "outputs": [
    {
     "data": {
      "text/plain": [
       "{2, 4, 5, 6}"
      ]
     },
     "execution_count": 16,
     "metadata": {},
     "output_type": "execute_result"
    }
   ],
   "source": [
    "# Discard\n",
    "st.discard(3)\n",
    "st"
   ]
  },
  {
   "cell_type": "code",
   "execution_count": 18,
   "id": "beba509e",
   "metadata": {},
   "outputs": [
    {
     "data": {
      "text/plain": [
       "{1, 2, 3, 4, 5, 6, 8, 10, 12}"
      ]
     },
     "execution_count": 18,
     "metadata": {},
     "output_type": "execute_result"
    }
   ],
   "source": [
    "# Union\n",
    "\n",
    "a = {1, 2, 3, 4, 5, 6}\n",
    "b = {2, 4, 6, 8, 10, 12}\n",
    "\n",
    "a.union(b)"
   ]
  },
  {
   "cell_type": "code",
   "execution_count": 19,
   "id": "dc6738ee",
   "metadata": {},
   "outputs": [
    {
     "data": {
      "text/plain": [
       "{2, 4, 6}"
      ]
     },
     "execution_count": 19,
     "metadata": {},
     "output_type": "execute_result"
    }
   ],
   "source": [
    "# Intersection\n",
    "\n",
    "x = {1, 2, 3, 4, 5, 6}\n",
    "y = {2, 4, 6, 8, 10, 12}\n",
    "\n",
    "a.intersection(b)"
   ]
  },
  {
   "cell_type": "markdown",
   "id": "2fbf845e",
   "metadata": {},
   "source": [
    "# Dictionary Data Type"
   ]
  },
  {
   "cell_type": "code",
   "execution_count": 36,
   "id": "dbd644d6",
   "metadata": {},
   "outputs": [
    {
     "name": "stdout",
     "output_type": "stream",
     "text": [
      "{'Name': 'Ehtijad', 'Class': 12, 'Age': 18} <class 'dict'>\n"
     ]
    }
   ],
   "source": [
    "# unorder data type\n",
    "# key and values\n",
    "# {}\n",
    "\n",
    "d={\n",
    "    \n",
    "    'Name' : 'Ehtijad', \n",
    "    'Class' : 12,\n",
    "    'Age' : 18  \n",
    "}\n",
    "\n",
    "print(d, type(d))"
   ]
  },
  {
   "cell_type": "code",
   "execution_count": 37,
   "id": "60404c5a",
   "metadata": {},
   "outputs": [
    {
     "name": "stdout",
     "output_type": "stream",
     "text": [
      "12\n"
     ]
    }
   ],
   "source": [
    "print(d[\"Class\"])"
   ]
  },
  {
   "cell_type": "code",
   "execution_count": 38,
   "id": "1c33143f",
   "metadata": {},
   "outputs": [
    {
     "name": "stdout",
     "output_type": "stream",
     "text": [
      "18\n"
     ]
    }
   ],
   "source": [
    "a = d[\"Age\"]\n",
    "print(a)"
   ]
  },
  {
   "cell_type": "code",
   "execution_count": 39,
   "id": "35c3af5c",
   "metadata": {},
   "outputs": [
    {
     "data": {
      "text/plain": [
       "'Ehtijad'"
      ]
     },
     "execution_count": 39,
     "metadata": {},
     "output_type": "execute_result"
    }
   ],
   "source": [
    "b = d[\"Name\"]\n",
    "b"
   ]
  },
  {
   "cell_type": "code",
   "execution_count": 40,
   "id": "33267e66",
   "metadata": {},
   "outputs": [
    {
     "name": "stdout",
     "output_type": "stream",
     "text": [
      "Name\n",
      "Class\n",
      "Age\n"
     ]
    }
   ],
   "source": [
    "for i in d:\n",
    "    print(i)"
   ]
  },
  {
   "cell_type": "code",
   "execution_count": 41,
   "id": "8612968f",
   "metadata": {},
   "outputs": [
    {
     "name": "stdout",
     "output_type": "stream",
     "text": [
      "Ehtijad\n",
      "12\n",
      "18\n"
     ]
    }
   ],
   "source": [
    "for n in d:\n",
    "    print(d[n])"
   ]
  },
  {
   "cell_type": "code",
   "execution_count": 42,
   "id": "459ef233",
   "metadata": {},
   "outputs": [
    {
     "name": "stdout",
     "output_type": "stream",
     "text": [
      "('Ehtijad', 18)\n"
     ]
    }
   ],
   "source": [
    "# FUNCTION\n",
    "# GET\n",
    "d={\n",
    "    'Name' : 'Ehtijad', \n",
    "    'Class' : 12,\n",
    "    'Age' : 18  \n",
    "}\n",
    "r = d.get(\"Name\"), d.get('Age')\n",
    "print(r)"
   ]
  },
  {
   "cell_type": "code",
   "execution_count": 43,
   "id": "475c6534",
   "metadata": {},
   "outputs": [
    {
     "name": "stdout",
     "output_type": "stream",
     "text": [
      "12\n"
     ]
    }
   ],
   "source": [
    "g=d.get(\"Class\")\n",
    "print(g)"
   ]
  },
  {
   "cell_type": "code",
   "execution_count": 44,
   "id": "de57cb4d",
   "metadata": {},
   "outputs": [
    {
     "data": {
      "text/plain": [
       "dict_keys(['Name', 'Class', 'Age'])"
      ]
     },
     "execution_count": 44,
     "metadata": {},
     "output_type": "execute_result"
    }
   ],
   "source": [
    "# keys\n",
    "d={\n",
    "     'Name' : 'Ehtijad', \n",
    "    'Class' : 12,\n",
    "    'Age' : 18  \n",
    "}\n",
    "a= d.keys()\n",
    "a"
   ]
  },
  {
   "cell_type": "code",
   "execution_count": 45,
   "id": "51e97ba5",
   "metadata": {},
   "outputs": [
    {
     "name": "stdout",
     "output_type": "stream",
     "text": [
      "Name\n",
      "Class\n",
      "Age\n"
     ]
    }
   ],
   "source": [
    "for n in d.keys():\n",
    "    print(n)"
   ]
  },
  {
   "cell_type": "code",
   "execution_count": 46,
   "id": "df8234a5",
   "metadata": {},
   "outputs": [
    {
     "name": "stdout",
     "output_type": "stream",
     "text": [
      "Ehtijad\n",
      "12\n",
      "18\n"
     ]
    }
   ],
   "source": [
    "# values\n",
    "d={\n",
    "    'Name' : 'Ehtijad', \n",
    "    'Class' : 12,\n",
    "    'Age' : 18  \n",
    "}\n",
    "for k in d.values():\n",
    "    print(k)"
   ]
  },
  {
   "cell_type": "code",
   "execution_count": 47,
   "id": "8101ccaa",
   "metadata": {},
   "outputs": [
    {
     "name": "stdout",
     "output_type": "stream",
     "text": [
      "Keys      Values\n",
      "\n",
      "Name      Ehtijad\n",
      "Class      12\n",
      "Age      18\n"
     ]
    }
   ],
   "source": [
    "# items: work on two parameters\n",
    "# \n",
    "print('Keys      Values')\n",
    "print()\n",
    "d={\n",
    "    'Name' : 'Ehtijad', \n",
    "    'Class' : 12,\n",
    "    'Age' : 18 \n",
    "}\n",
    "for a, b in d.items():\n",
    "     print(a,'    ',b)"
   ]
  },
  {
   "cell_type": "code",
   "execution_count": 48,
   "id": "0d7d2552",
   "metadata": {},
   "outputs": [
    {
     "name": "stdout",
     "output_type": "stream",
     "text": [
      "{'Name': 'Ehtijad', 'Class': 12}\n"
     ]
    }
   ],
   "source": [
    "# del\n",
    "d={\n",
    "    'Name' : 'Ehtijad', \n",
    "    'Class' : 12,\n",
    "    'Age' : 18\n",
    "}\n",
    "del d[\"Age\"]\n",
    "print(d)"
   ]
  },
  {
   "cell_type": "code",
   "execution_count": 49,
   "id": "8901194c",
   "metadata": {},
   "outputs": [
    {
     "data": {
      "text/plain": [
       "{'Name': 'Ehtijad', 'Class': '10'}"
      ]
     },
     "execution_count": 49,
     "metadata": {},
     "output_type": "execute_result"
    }
   ],
   "source": [
    "d['Class'] = '10'\n",
    "d"
   ]
  },
  {
   "cell_type": "code",
   "execution_count": 50,
   "id": "7e88063c",
   "metadata": {},
   "outputs": [
    {
     "name": "stdout",
     "output_type": "stream",
     "text": [
      "{'Name': 'Ehtijad'}\n"
     ]
    }
   ],
   "source": [
    "#pop\n",
    "d.pop('Class')\n",
    "print(d)"
   ]
  },
  {
   "cell_type": "code",
   "execution_count": 51,
   "id": "10b37bcc",
   "metadata": {},
   "outputs": [
    {
     "name": "stdout",
     "output_type": "stream",
     "text": [
      "{'Name': 'Ehtijad', 'age': 20}\n"
     ]
    }
   ],
   "source": [
    "# dict():keys become keys and value become value\n",
    "\n",
    "name = 'Ehtijad'\n",
    "age = 20\n",
    "d = {'Name': name, 'age': age}\n",
    "print(d)"
   ]
  },
  {
   "cell_type": "code",
   "execution_count": 52,
   "id": "ce6d2f96",
   "metadata": {},
   "outputs": [
    {
     "name": "stdout",
     "output_type": "stream",
     "text": [
      "{'Name': 'Ehtijad', 'Class': 12, 'Age': '18years'}\n"
     ]
    }
   ],
   "source": [
    "#update\n",
    "d={\n",
    "     'Name' : 'Ehtijad', \n",
    "    'Class' : 12,\n",
    "    'Age' : 18\n",
    "}\n",
    "d.update({\"Age\" : \"18years\"})\n",
    "print(d)"
   ]
  },
  {
   "cell_type": "code",
   "execution_count": 53,
   "id": "a7a2e330",
   "metadata": {},
   "outputs": [
    {
     "name": "stdout",
     "output_type": "stream",
     "text": [
      "{'name': 'ehtijad', 'age': 20}\n"
     ]
    }
   ],
   "source": [
    "#dict()\n",
    "\n",
    "d = {'name': 'ehtijad', 'age': 20}\n",
    "print(d)"
   ]
  },
  {
   "cell_type": "code",
   "execution_count": 54,
   "id": "a1305b62",
   "metadata": {},
   "outputs": [
    {
     "name": "stdout",
     "output_type": "stream",
     "text": [
      "{'Kings': {'Students': 2500, 'Boys': 1500, 'Girls': 1000}, 'Public': {'Students': 10000, 'Boys': 6500, 'Girls': 3500}, 'APSAC': {'Students': 5000, 'Boys': 2500, 'Girls': 2500}} <class 'dict'>\n"
     ]
    }
   ],
   "source": [
    "# PYTHON NESTED DICTIONARY\n",
    "\n",
    "school={\n",
    "    'Kings':{\"Students\":2500, 'Boys' : 1500 , 'Girls' : 1000},\n",
    "    \n",
    "    \"Public\":{\"Students\":10000,'Boys' : 6500 , 'Girls' : 3500},\n",
    "    \n",
    "    \"APSAC\":{\"Students\":5000,'Boys' : 2500 , 'Girls' : 2500},\n",
    "}\n",
    "print(school, type(school))"
   ]
  },
  {
   "cell_type": "code",
   "execution_count": 55,
   "id": "3ae7e7ce",
   "metadata": {},
   "outputs": [
    {
     "data": {
      "text/plain": [
       "{'Students': 2500, 'Boys': 1500, 'Girls': 1000}"
      ]
     },
     "execution_count": 55,
     "metadata": {},
     "output_type": "execute_result"
    }
   ],
   "source": [
    "school.get('Kings')"
   ]
  },
  {
   "cell_type": "code",
   "execution_count": 56,
   "id": "89013f28",
   "metadata": {},
   "outputs": [
    {
     "data": {
      "text/plain": [
       "{'Students': 5000, 'Boys': 2500, 'Girls': 2500}"
      ]
     },
     "execution_count": 56,
     "metadata": {},
     "output_type": "execute_result"
    }
   ],
   "source": [
    "school.get('APSAC')"
   ]
  },
  {
   "cell_type": "code",
   "execution_count": 57,
   "id": "10e113e6",
   "metadata": {},
   "outputs": [
    {
     "data": {
      "text/plain": [
       "1500"
      ]
     },
     "execution_count": 57,
     "metadata": {},
     "output_type": "execute_result"
    }
   ],
   "source": [
    "school['Kings']['Boys']"
   ]
  },
  {
   "cell_type": "code",
   "execution_count": 58,
   "id": "cd4af80b",
   "metadata": {},
   "outputs": [
    {
     "data": {
      "text/plain": [
       "2500"
      ]
     },
     "execution_count": 58,
     "metadata": {},
     "output_type": "execute_result"
    }
   ],
   "source": [
    "school['APSAC']['Girls']"
   ]
  },
  {
   "cell_type": "code",
   "execution_count": 59,
   "id": "52765863",
   "metadata": {},
   "outputs": [
    {
     "name": "stdout",
     "output_type": "stream",
     "text": [
      "Kings {'Students': 2500, 'Boys': 1500, 'Girls': 1000}\n",
      "Public {'Students': 10000, 'Boys': 6500, 'Girls': 3500}\n",
      "APSAC {'Students': 5000, 'Boys': 2500, 'Girls': 2500}\n"
     ]
    }
   ],
   "source": [
    "for Keys, Values in school.items():\n",
    "    print(Keys, Values)"
   ]
  },
  {
   "cell_type": "code",
   "execution_count": 60,
   "id": "c809d477",
   "metadata": {},
   "outputs": [
    {
     "name": "stdout",
     "output_type": "stream",
     "text": [
      "School   Boys    Girls\n",
      "Kings    1500     1000\n",
      "Public    6500     3500\n",
      "APSAC    2500     2500\n"
     ]
    }
   ],
   "source": [
    "print('School   Boys    Girls')\n",
    "for Keys, Values in school.items():\n",
    "    print(Keys,'  ', Values['Boys'],'   ',  Values['Girls'])"
   ]
  },
  {
   "cell_type": "code",
   "execution_count": 61,
   "id": "90528378",
   "metadata": {},
   "outputs": [
    {
     "data": {
      "text/plain": [
       "{'Kings': {'Students': 2500, 'Boys': 1500, 'Girls': 1000},\n",
       " 'Public': {'Students': 10000, 'Boys': 6500, 'Girls': 4000},\n",
       " 'APSAC': {'Students': 5000, 'Boys': 2500, 'Girls': 2500}}"
      ]
     },
     "execution_count": 61,
     "metadata": {},
     "output_type": "execute_result"
    }
   ],
   "source": [
    "school['Public']['Girls'] = 4000\n",
    "school"
   ]
  }
 ],
 "metadata": {
  "kernelspec": {
   "display_name": "Python 3 (ipykernel)",
   "language": "python",
   "name": "python3"
  },
  "language_info": {
   "codemirror_mode": {
    "name": "ipython",
    "version": 3
   },
   "file_extension": ".py",
   "mimetype": "text/x-python",
   "name": "python",
   "nbconvert_exporter": "python",
   "pygments_lexer": "ipython3",
   "version": "3.10.9"
  }
 },
 "nbformat": 4,
 "nbformat_minor": 5
}
