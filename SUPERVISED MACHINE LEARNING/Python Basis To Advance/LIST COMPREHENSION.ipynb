{
 "cells": [
  {
   "cell_type": "code",
   "execution_count": 47,
   "id": "69356998",
   "metadata": {},
   "outputs": [
    {
     "name": "stdout",
     "output_type": "stream",
     "text": [
      "[12, 19, 20, 'hello', 'what', 80, 29] <class 'list'>\n",
      "[12, 19, 20, 'hello', 'what', 80, 29] <class 'list'>\n",
      "[12, 19, 20, 'hello', 'what', 80, 29] <class 'list'>\n",
      "[12, 19, 20, 'hello', 'what', 80, 29] <class 'list'>\n",
      "[12, 19, 20, 'hello', 'what', 80, 29] <class 'list'>\n",
      "[12, 19, 20, 'hello', 'what', 80, 29] <class 'list'>\n"
     ]
    }
   ],
   "source": [
    "# LIST ITERATION IN PYTHON\n",
    "a=[12,19,20,\"hello\",\"what\",80,29]\n",
    "len(a)\n",
    "for n in range(6):\n",
    "    print(a, type(a))"
   ]
  },
  {
   "cell_type": "code",
   "execution_count": 48,
   "id": "dde6d299",
   "metadata": {},
   "outputs": [
    {
     "name": "stdout",
     "output_type": "stream",
     "text": [
      "12 <class 'list'>\n",
      "19 <class 'list'>\n",
      "20 <class 'list'>\n",
      "hello <class 'list'>\n",
      "what <class 'list'>\n",
      "80 <class 'list'>\n",
      "29 <class 'list'>\n"
     ]
    }
   ],
   "source": [
    "for n in a:\n",
    "    print(n, type(a))"
   ]
  },
  {
   "cell_type": "code",
   "execution_count": 4,
   "id": "a7399ec1",
   "metadata": {},
   "outputs": [
    {
     "name": "stdout",
     "output_type": "stream",
     "text": [
      "1\n",
      "2\n",
      "3\n",
      "4\n",
      "5\n",
      "6\n",
      "7\n",
      "8\n",
      "9\n",
      "10\n",
      "11\n",
      "12\n",
      "13\n",
      "14\n",
      "15\n",
      "16\n",
      "17\n",
      "18\n",
      "19\n",
      "20\n",
      "21\n",
      "22\n",
      "23\n",
      "24\n"
     ]
    }
   ],
   "source": [
    "# LIST COMPREHENSION:blank list \n",
    "l=[]\n",
    "for n in range(1,25):\n",
    "  print(n)\n",
    "  l.append(n) \n",
    "\n",
    "    "
   ]
  },
  {
   "cell_type": "code",
   "execution_count": 7,
   "id": "a2105944",
   "metadata": {},
   "outputs": [
    {
     "name": "stdout",
     "output_type": "stream",
     "text": [
      "[1, 2, 3, 4, 5, 6, 7, 8, 9, 10, 11]\n"
     ]
    }
   ],
   "source": [
    "n=[s for s in range(1,25) if s<=11]\n",
    "print(n)"
   ]
  },
  {
   "cell_type": "code",
   "execution_count": 1,
   "id": "8057fa67",
   "metadata": {},
   "outputs": [],
   "source": [
    "n=[s for s in range(1,25) if s%2==0]"
   ]
  },
  {
   "cell_type": "markdown",
   "id": "c711dc71",
   "metadata": {},
   "source": [
    "f=\"how are you\"\n",
    "l=[s for s in range]\n",
    "print(l)"
   ]
  },
  {
   "cell_type": "markdown",
   "id": "46914658",
   "metadata": {},
   "source": []
  },
  {
   "cell_type": "markdown",
   "id": "8bf7129a",
   "metadata": {},
   "source": []
  }
 ],
 "metadata": {
  "kernelspec": {
   "display_name": "Python 3 (ipykernel)",
   "language": "python",
   "name": "python3"
  },
  "language_info": {
   "codemirror_mode": {
    "name": "ipython",
    "version": 3
   },
   "file_extension": ".py",
   "mimetype": "text/x-python",
   "name": "python",
   "nbconvert_exporter": "python",
   "pygments_lexer": "ipython3",
   "version": "3.10.9"
  }
 },
 "nbformat": 4,
 "nbformat_minor": 5
}
