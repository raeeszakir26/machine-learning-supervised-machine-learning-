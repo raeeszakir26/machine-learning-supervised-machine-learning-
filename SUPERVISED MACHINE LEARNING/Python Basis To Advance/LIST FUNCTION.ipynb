{
 "cells": [
  {
   "cell_type": "code",
   "execution_count": 6,
   "id": "7fc916c0",
   "metadata": {},
   "outputs": [
    {
     "name": "stdout",
     "output_type": "stream",
     "text": [
      "[20, 30, 50, 60, 70, 80, 90] <class 'list'>\n"
     ]
    }
   ],
   "source": [
    "# delete function\n",
    "l=[20,30,40,50,60,70,80,90];\n",
    "del l[2]\n",
    "print(l,type(l))"
   ]
  },
  {
   "cell_type": "code",
   "execution_count": 9,
   "id": "406ecc50",
   "metadata": {},
   "outputs": [
    {
     "name": "stdout",
     "output_type": "stream",
     "text": [
      "[20, 30, 50, 60, 70, 90]\n"
     ]
    }
   ],
   "source": [
    "del l[5]\n",
    "print(l)"
   ]
  },
  {
   "cell_type": "code",
   "execution_count": 13,
   "id": "83e98c7d",
   "metadata": {},
   "outputs": [
    {
     "name": "stdout",
     "output_type": "stream",
     "text": [
      "50\n",
      "[20, 30, 40, 60, 70, 80, 90]\n"
     ]
    }
   ],
   "source": [
    "# pop function\n",
    "l=[20,30,40,50,60,70,80,90];\n",
    "print(l.pop(3))\n",
    "print(l)"
   ]
  },
  {
   "cell_type": "code",
   "execution_count": 15,
   "id": "4fe90d63",
   "metadata": {},
   "outputs": [
    {
     "name": "stdout",
     "output_type": "stream",
     "text": [
      "[20, 30, 50, 60, 70, 80, 90]\n"
     ]
    }
   ],
   "source": [
    "# remove function\n",
    "l=[20,30,40,50,60,70,80,90];\n",
    "l.remove(40)\n",
    "print(l)"
   ]
  },
  {
   "cell_type": "code",
   "execution_count": 17,
   "id": "e0997525",
   "metadata": {},
   "outputs": [
    {
     "name": "stdout",
     "output_type": "stream",
     "text": [
      "[]\n"
     ]
    }
   ],
   "source": [
    "# clear function\n",
    "l=[20,30,40,50,60,70,80,90];\n",
    "l.clear()\n",
    "print(l)"
   ]
  },
  {
   "cell_type": "code",
   "execution_count": 18,
   "id": "e3d12e06",
   "metadata": {},
   "outputs": [
    {
     "name": "stdout",
     "output_type": "stream",
     "text": [
      "[20, 30, 40, 45, 50, 60, 70, 80, 90]\n"
     ]
    }
   ],
   "source": [
    "# insert function\n",
    "l=[20,30,40,50,60,70,80,90];\n",
    "l.insert(3,45)# give index no first and than give value\n",
    "print(l)"
   ]
  },
  {
   "cell_type": "code",
   "execution_count": 23,
   "id": "af90e4cc",
   "metadata": {},
   "outputs": [
    {
     "name": "stdout",
     "output_type": "stream",
     "text": [
      "[20, 30, 40, 50, 60, 70, 80, 90, [100, 110, 120, 130]]\n"
     ]
    }
   ],
   "source": [
    "#append function\n",
    "l=[20,30,40,50,60,70,80,90];\n",
    "m=[100,110,120,130];\n",
    "l.append(m)# add value at the last of the list\n",
    "print(l)"
   ]
  },
  {
   "cell_type": "code",
   "execution_count": 24,
   "id": "af305764",
   "metadata": {},
   "outputs": [
    {
     "name": "stdout",
     "output_type": "stream",
     "text": [
      "[20, 30, 40, 50, 60, 70, 80, 90, 100, 110, 120, 130]\n"
     ]
    }
   ],
   "source": [
    "# extend funnction\n",
    "l=[20,30,40,50,60,70,80,90];\n",
    "m=[100,110,120,130];\n",
    "l.extend(m)\n",
    "print(l)"
   ]
  },
  {
   "cell_type": "code",
   "execution_count": 31,
   "id": "589e4e88",
   "metadata": {},
   "outputs": [
    {
     "name": "stdout",
     "output_type": "stream",
     "text": [
      "3\n"
     ]
    }
   ],
   "source": [
    "# count function\n",
    "l=[20,30,40,50,60,70,80,90,50,50,40,40,45];\n",
    "n=l.count(50)\n",
    "print(n)"
   ]
  },
  {
   "cell_type": "code",
   "execution_count": 40,
   "id": "61bc5ceb",
   "metadata": {},
   "outputs": [
    {
     "data": {
      "text/plain": [
       "101"
      ]
     },
     "execution_count": 40,
     "metadata": {},
     "output_type": "execute_result"
    }
   ],
   "source": [
    "# maximum function\n",
    "l=[20,30,40,50,60,70,80,90,50,50,40,40,45,101]\n",
    "max(l)\n"
   ]
  },
  {
   "cell_type": "code",
   "execution_count": 39,
   "id": "91dc7b31",
   "metadata": {},
   "outputs": [
    {
     "data": {
      "text/plain": [
       "20"
      ]
     },
     "execution_count": 39,
     "metadata": {},
     "output_type": "execute_result"
    }
   ],
   "source": [
    "# minimum function\n",
    "l=[20,30,40,50,60,70,80,90,50,50,40,40,45,101]\n",
    "min(l)"
   ]
  },
  {
   "cell_type": "code",
   "execution_count": 41,
   "id": "aa68c607",
   "metadata": {},
   "outputs": [
    {
     "name": "stdout",
     "output_type": "stream",
     "text": [
      "[0, 20, 30, 40, 40, 40, 40, 40, 45, 45, 50, 50, 50, 50, 50, 60, 70, 80, 90, 90, 101, 101]\n"
     ]
    }
   ],
   "source": [
    "# sort function: acending order \n",
    "l=[0,90,50,50,40,40,45,101,20,30,40,50,60,70,80,90,50,50,40,40,45,101]\n",
    "l.sort()\n",
    "print(l)"
   ]
  },
  {
   "cell_type": "code",
   "execution_count": 42,
   "id": "8a615769",
   "metadata": {},
   "outputs": [
    {
     "name": "stdout",
     "output_type": "stream",
     "text": [
      "[101, 45, 40, 40, 50, 50, 90, 80, 70, 60, 50, 40, 30, 20]\n"
     ]
    }
   ],
   "source": [
    "# reverse function:decending order\n",
    "l=[20,30,40,50,60,70,80,90,50,50,40,40,45,101]\n",
    "l.reverse()\n",
    "print(l)"
   ]
  },
  {
   "cell_type": "code",
   "execution_count": 48,
   "id": "007ddc33",
   "metadata": {},
   "outputs": [
    {
     "name": "stdout",
     "output_type": "stream",
     "text": [
      "0\n"
     ]
    }
   ],
   "source": [
    "# index function\n",
    "l=[20,30,40,50,60,70,80,90,50,50,40,40,45,101]\n",
    "m=l.index(20)\n",
    "print(m)"
   ]
  }
 ],
 "metadata": {
  "kernelspec": {
   "display_name": "Python 3 (ipykernel)",
   "language": "python",
   "name": "python3"
  },
  "language_info": {
   "codemirror_mode": {
    "name": "ipython",
    "version": 3
   },
   "file_extension": ".py",
   "mimetype": "text/x-python",
   "name": "python",
   "nbconvert_exporter": "python",
   "pygments_lexer": "ipython3",
   "version": "3.10.9"
  }
 },
 "nbformat": 4,
 "nbformat_minor": 5
}
