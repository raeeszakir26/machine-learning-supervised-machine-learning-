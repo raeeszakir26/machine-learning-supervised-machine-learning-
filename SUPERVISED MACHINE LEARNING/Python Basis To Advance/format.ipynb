{
 "cells": [
  {
   "cell_type": "code",
   "execution_count": 3,
   "id": "d1d3463c",
   "metadata": {},
   "outputs": [
    {
     "name": "stdout",
     "output_type": "stream",
     "text": [
      "dunya tare mazaj k bande nai hai hum 45\n"
     ]
    }
   ],
   "source": [
    "w=\"dunya {} mazaj k {} nai {} hum {}\".format(\"tare\", \"bande\",\"hai\",45);\n",
    "print(w)"
   ]
  },
  {
   "cell_type": "code",
   "execution_count": 6,
   "id": "be186e85",
   "metadata": {},
   "outputs": [
    {
     "name": "stdout",
     "output_type": "stream",
     "text": [
      "dunya bande mazaj k tare nai 45 hum hai\n"
     ]
    }
   ],
   "source": [
    "w=\"dunya {1} mazaj k {0} nai {3} hum {2}\".format(\"tare\", \"bande\",\"hai\",45);\n",
    "print(w)"
   ]
  },
  {
   "cell_type": "code",
   "execution_count": 7,
   "id": "0227bf54",
   "metadata": {},
   "outputs": [
    {
     "name": "stdout",
     "output_type": "stream",
     "text": [
      "dunya bande mazaj k tare nai hai hum 45\n"
     ]
    }
   ],
   "source": [
    "w=\"dunya {b} mazaj k {a} nai {c} hum {d}\".format(a=\"tare\", b=\"bande\",c=\"hai\",d=45);\n",
    "print(w)"
   ]
  },
  {
   "cell_type": "code",
   "execution_count": 10,
   "id": "87a27e00",
   "metadata": {},
   "outputs": [
    {
     "name": "stdout",
     "output_type": "stream",
     "text": [
      "dunya bande                mazaj k         tare         nai hai                        hum                             45\n"
     ]
    }
   ],
   "source": [
    "w=\"dunya {b:^20} mazaj k {a:^20} nai {c:<26} hum {d:>30}\".format(a=\"tare\", b=\"bande\",c=\"hai\",d=45);   # < right align\n",
    "print(w)                                                                                               # > left align \n",
    "                                                                                                        # ^ center align\n",
    "                                                                                                    # : align"
   ]
  },
  {
   "cell_type": "code",
   "execution_count": null,
   "id": "bb377ace",
   "metadata": {},
   "outputs": [],
   "source": []
  }
 ],
 "metadata": {
  "kernelspec": {
   "display_name": "Python 3 (ipykernel)",
   "language": "python",
   "name": "python3"
  },
  "language_info": {
   "codemirror_mode": {
    "name": "ipython",
    "version": 3
   },
   "file_extension": ".py",
   "mimetype": "text/x-python",
   "name": "python",
   "nbconvert_exporter": "python",
   "pygments_lexer": "ipython3",
   "version": "3.10.9"
  }
 },
 "nbformat": 4,
 "nbformat_minor": 5
}
