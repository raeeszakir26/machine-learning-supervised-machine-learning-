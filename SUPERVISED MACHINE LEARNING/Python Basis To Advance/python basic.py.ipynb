{
 "cells": [
  {
   "cell_type": "code",
   "execution_count": 1,
   "id": "e5aede6b",
   "metadata": {},
   "outputs": [
    {
     "name": "stdout",
     "output_type": "stream",
     "text": [
      "22\n"
     ]
    }
   ],
   "source": [
    "# arthamitical operator\n",
    "#addition\n",
    "a=4\n",
    "b=8\n",
    "c=10\n",
    "print(a+b+c)"
   ]
  },
  {
   "cell_type": "code",
   "execution_count": 2,
   "id": "8e568caf",
   "metadata": {},
   "outputs": [
    {
     "name": "stdout",
     "output_type": "stream",
     "text": [
      "-14\n"
     ]
    }
   ],
   "source": [
    "#subtraction\n",
    "print(a-b-c)"
   ]
  },
  {
   "cell_type": "code",
   "execution_count": 3,
   "id": "31f5fd7e",
   "metadata": {},
   "outputs": [
    {
     "name": "stdout",
     "output_type": "stream",
     "text": [
      "6\n"
     ]
    }
   ],
   "source": [
    "print(c-a)"
   ]
  },
  {
   "cell_type": "code",
   "execution_count": 4,
   "id": "6eb52f8b",
   "metadata": {},
   "outputs": [
    {
     "name": "stdout",
     "output_type": "stream",
     "text": [
      "2\n"
     ]
    }
   ],
   "source": [
    "print(c-b)"
   ]
  },
  {
   "cell_type": "code",
   "execution_count": 6,
   "id": "ccfd7f82",
   "metadata": {},
   "outputs": [
    {
     "name": "stdout",
     "output_type": "stream",
     "text": [
      "2.5\n"
     ]
    }
   ],
   "source": [
    "#division\n",
    "print(c/a)"
   ]
  },
  {
   "cell_type": "code",
   "execution_count": 7,
   "id": "6a33ed76",
   "metadata": {},
   "outputs": [
    {
     "name": "stdout",
     "output_type": "stream",
     "text": [
      "0.5\n"
     ]
    }
   ],
   "source": [
    "print(a/b)"
   ]
  },
  {
   "cell_type": "code",
   "execution_count": 8,
   "id": "366d3251",
   "metadata": {},
   "outputs": [
    {
     "name": "stdout",
     "output_type": "stream",
     "text": [
      "0.05\n"
     ]
    }
   ],
   "source": [
    "print(a/b/c)"
   ]
  },
  {
   "cell_type": "code",
   "execution_count": 9,
   "id": "00decfb4",
   "metadata": {},
   "outputs": [
    {
     "name": "stdout",
     "output_type": "stream",
     "text": [
      "0.3125\n"
     ]
    }
   ],
   "source": [
    "print(c/a/b)"
   ]
  },
  {
   "cell_type": "code",
   "execution_count": 11,
   "id": "6a6c430b",
   "metadata": {},
   "outputs": [
    {
     "name": "stdout",
     "output_type": "stream",
     "text": [
      "4\n"
     ]
    }
   ],
   "source": [
    "#modulous\n",
    "print(a%b)"
   ]
  },
  {
   "cell_type": "code",
   "execution_count": 12,
   "id": "4098c799",
   "metadata": {},
   "outputs": [
    {
     "name": "stdout",
     "output_type": "stream",
     "text": [
      "4\n"
     ]
    }
   ],
   "source": [
    "print(a%c)\n"
   ]
  },
  {
   "cell_type": "code",
   "execution_count": 13,
   "id": "88a172e9",
   "metadata": {},
   "outputs": [
    {
     "name": "stdout",
     "output_type": "stream",
     "text": [
      "8\n"
     ]
    }
   ],
   "source": [
    "print(b%c)"
   ]
  },
  {
   "cell_type": "code",
   "execution_count": 14,
   "id": "49072191",
   "metadata": {},
   "outputs": [
    {
     "name": "stdout",
     "output_type": "stream",
     "text": [
      "32\n"
     ]
    }
   ],
   "source": [
    "# multiplication\n",
    "print(a*b)"
   ]
  },
  {
   "cell_type": "code",
   "execution_count": 15,
   "id": "08b2ecab",
   "metadata": {},
   "outputs": [
    {
     "name": "stdout",
     "output_type": "stream",
     "text": [
      "40\n"
     ]
    }
   ],
   "source": [
    "print(a*c)"
   ]
  },
  {
   "cell_type": "code",
   "execution_count": 16,
   "id": "dfc03f01",
   "metadata": {},
   "outputs": [
    {
     "name": "stdout",
     "output_type": "stream",
     "text": [
      "320\n"
     ]
    }
   ],
   "source": [
    "print(a*c*b)"
   ]
  },
  {
   "cell_type": "code",
   "execution_count": 17,
   "id": "bd544a13",
   "metadata": {},
   "outputs": [
    {
     "name": "stdout",
     "output_type": "stream",
     "text": [
      "0\n"
     ]
    }
   ],
   "source": [
    "# floor division\n",
    "print(a//c//b)"
   ]
  },
  {
   "cell_type": "code",
   "execution_count": 19,
   "id": "525d540a",
   "metadata": {},
   "outputs": [
    {
     "name": "stdout",
     "output_type": "stream",
     "text": [
      "1\n"
     ]
    }
   ],
   "source": [
    "print(c//b)"
   ]
  },
  {
   "cell_type": "code",
   "execution_count": 20,
   "id": "f4473dcd",
   "metadata": {},
   "outputs": [
    {
     "name": "stdout",
     "output_type": "stream",
     "text": [
      "65536\n"
     ]
    }
   ],
   "source": [
    "#exponent\n",
    "print(a**b)"
   ]
  },
  {
   "cell_type": "code",
   "execution_count": 23,
   "id": "25f5aa3d",
   "metadata": {},
   "outputs": [
    {
     "name": "stdout",
     "output_type": "stream",
     "text": [
      "1048576\n"
     ]
    }
   ],
   "source": [
    "print(a**c)"
   ]
  },
  {
   "cell_type": "code",
   "execution_count": 25,
   "id": "4b9d5318",
   "metadata": {},
   "outputs": [
    {
     "name": "stdout",
     "output_type": "stream",
     "text": [
      "False False\n"
     ]
    }
   ],
   "source": [
    "#assignment\n",
    "a=8\n",
    "b=10\n",
    "c=20\n",
    "print(a==c, b==13)"
   ]
  },
  {
   "cell_type": "code",
   "execution_count": 28,
   "id": "e2e3312a",
   "metadata": {},
   "outputs": [
    {
     "name": "stdout",
     "output_type": "stream",
     "text": [
      "False False True\n"
     ]
    }
   ],
   "source": [
    "print(a==c, b==13, b<=20)"
   ]
  },
  {
   "cell_type": "code",
   "execution_count": 29,
   "id": "99d3b880",
   "metadata": {},
   "outputs": [
    {
     "name": "stdout",
     "output_type": "stream",
     "text": [
      "True False\n"
     ]
    }
   ],
   "source": [
    "print(a<=c, b==13)"
   ]
  },
  {
   "cell_type": "code",
   "execution_count": 30,
   "id": "110069b9",
   "metadata": {},
   "outputs": [
    {
     "name": "stdout",
     "output_type": "stream",
     "text": [
      "True False\n"
     ]
    }
   ],
   "source": [
    "#comprision\n",
    "e=20\n",
    "f=25\n",
    "print(e!=f, f<=4)"
   ]
  },
  {
   "cell_type": "code",
   "execution_count": 36,
   "id": "c311c3c0",
   "metadata": {},
   "outputs": [
    {
     "name": "stdout",
     "output_type": "stream",
     "text": [
      "True\n"
     ]
    }
   ],
   "source": [
    "#logical\n",
    "z=30\n",
    "d=10\n",
    "print(z>10 and d<30 and d==10)"
   ]
  },
  {
   "cell_type": "code",
   "execution_count": 34,
   "id": "23b94b93",
   "metadata": {},
   "outputs": [
    {
     "name": "stdout",
     "output_type": "stream",
     "text": [
      "False\n"
     ]
    }
   ],
   "source": [
    "print(z<4 or d>90)"
   ]
  },
  {
   "cell_type": "code",
   "execution_count": 40,
   "id": "4feb78d3",
   "metadata": {},
   "outputs": [
    {
     "name": "stdout",
     "output_type": "stream",
     "text": [
      "False True\n"
     ]
    }
   ],
   "source": [
    "print(z<4 ,not d>90)"
   ]
  },
  {
   "cell_type": "code",
   "execution_count": 42,
   "id": "ab6619cd",
   "metadata": {},
   "outputs": [
    {
     "name": "stdout",
     "output_type": "stream",
     "text": [
      "False\n"
     ]
    }
   ],
   "source": [
    "#identify\n",
    "a=10\n",
    "d=20\n",
    "g=30\n",
    "print(a is d)\n"
   ]
  },
  {
   "cell_type": "code",
   "execution_count": 43,
   "id": "8c14b170",
   "metadata": {},
   "outputs": [
    {
     "name": "stdout",
     "output_type": "stream",
     "text": [
      "True\n"
     ]
    }
   ],
   "source": [
    "print(a is not d)"
   ]
  },
  {
   "cell_type": "code",
   "execution_count": 49,
   "id": "41976e1d",
   "metadata": {},
   "outputs": [
    {
     "name": "stdout",
     "output_type": "stream",
     "text": [
      "True\n"
     ]
    }
   ],
   "source": [
    "#membership\n",
    "a1=\"Hello\"\n",
    "print(\"H\" in a1)"
   ]
  },
  {
   "cell_type": "code",
   "execution_count": 51,
   "id": "ca7b227b",
   "metadata": {},
   "outputs": [
    {
     "name": "stdout",
     "output_type": "stream",
     "text": [
      "True\n"
     ]
    }
   ],
   "source": [
    "print(\"l\" in a1)"
   ]
  },
  {
   "cell_type": "code",
   "execution_count": 54,
   "id": "a844dd62",
   "metadata": {},
   "outputs": [
    {
     "name": "stdout",
     "output_type": "stream",
     "text": [
      "False\n"
     ]
    }
   ],
   "source": [
    "list=[1, 3, 5, 7, 9]\n",
    "print(4 in list)"
   ]
  },
  {
   "cell_type": "code",
   "execution_count": 55,
   "id": "7be02071",
   "metadata": {},
   "outputs": [
    {
     "name": "stdout",
     "output_type": "stream",
     "text": [
      "True\n"
     ]
    }
   ],
   "source": [
    "print(5 in list)"
   ]
  },
  {
   "cell_type": "code",
   "execution_count": 60,
   "id": "e4f0d8e7",
   "metadata": {},
   "outputs": [
    {
     "name": "stdout",
     "output_type": "stream",
     "text": [
      "0b0 0\n"
     ]
    }
   ],
   "source": [
    "#bitiwase\n",
    "a=4\n",
    "f=8\n",
    "e=10\n",
    "print(bin(a&f),a&f)"
   ]
  },
  {
   "cell_type": "code",
   "execution_count": 61,
   "id": "45581b53",
   "metadata": {},
   "outputs": [
    {
     "name": "stdout",
     "output_type": "stream",
     "text": [
      "0b1000 8\n"
     ]
    }
   ],
   "source": [
    "print(bin(e&f),e&f)"
   ]
  },
  {
   "cell_type": "code",
   "execution_count": 63,
   "id": "2d93b7d4",
   "metadata": {},
   "outputs": [
    {
     "name": "stdout",
     "output_type": "stream",
     "text": [
      "0b0 0\n"
     ]
    }
   ],
   "source": [
    "print(bin(e&a),e&a)"
   ]
  },
  {
   "cell_type": "code",
   "execution_count": 64,
   "id": "e68e99c0",
   "metadata": {},
   "outputs": [
    {
     "name": "stdout",
     "output_type": "stream",
     "text": [
      "0b0 0\n"
     ]
    }
   ],
   "source": [
    "print(bin(e&a&f),e&a&f)"
   ]
  },
  {
   "cell_type": "code",
   "execution_count": 65,
   "id": "556b4291",
   "metadata": {},
   "outputs": [
    {
     "name": "stdout",
     "output_type": "stream",
     "text": [
      "0b1110 14\n"
     ]
    }
   ],
   "source": [
    "print(bin(e|a|f),e|a|f)"
   ]
  },
  {
   "cell_type": "code",
   "execution_count": 66,
   "id": "0c58e9d0",
   "metadata": {},
   "outputs": [
    {
     "name": "stdout",
     "output_type": "stream",
     "text": [
      "0b110 6\n"
     ]
    }
   ],
   "source": [
    "print(bin(e^a^f),e^a^f)"
   ]
  },
  {
   "cell_type": "code",
   "execution_count": 67,
   "id": "367c3f44",
   "metadata": {},
   "outputs": [
    {
     "name": "stdout",
     "output_type": "stream",
     "text": [
      "0b1110 14\n"
     ]
    }
   ],
   "source": [
    "print(bin(e^a),e^a)"
   ]
  },
  {
   "cell_type": "code",
   "execution_count": 68,
   "id": "5ed5d5d3",
   "metadata": {},
   "outputs": [
    {
     "name": "stdout",
     "output_type": "stream",
     "text": [
      "0b1100 12\n"
     ]
    }
   ],
   "source": [
    "print(bin(a^f),a^f)"
   ]
  },
  {
   "cell_type": "code",
   "execution_count": 2,
   "id": "a444af8c",
   "metadata": {},
   "outputs": [
    {
     "ename": "SyntaxError",
     "evalue": "invalid syntax (3479167131.py, line 1)",
     "output_type": "error",
     "traceback": [
      "\u001b[1;36m  Cell \u001b[1;32mIn[2], line 1\u001b[1;36m\u001b[0m\n\u001b[1;33m    kaggle datasets download -d brendan45774/test-file\u001b[0m\n\u001b[1;37m           ^\u001b[0m\n\u001b[1;31mSyntaxError\u001b[0m\u001b[1;31m:\u001b[0m invalid syntax\n"
     ]
    }
   ],
   "source": [
    "kaggle datasets download -d brendan45774/test-file"
   ]
  },
  {
   "cell_type": "code",
   "execution_count": null,
   "id": "ac45e7d0",
   "metadata": {},
   "outputs": [],
   "source": []
  }
 ],
 "metadata": {
  "kernelspec": {
   "display_name": "Python 3 (ipykernel)",
   "language": "python",
   "name": "python3"
  },
  "language_info": {
   "codemirror_mode": {
    "name": "ipython",
    "version": 3
   },
   "file_extension": ".py",
   "mimetype": "text/x-python",
   "name": "python",
   "nbconvert_exporter": "python",
   "pygments_lexer": "ipython3",
   "version": "3.10.9"
  }
 },
 "nbformat": 4,
 "nbformat_minor": 5
}
